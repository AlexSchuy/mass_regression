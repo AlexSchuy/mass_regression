{
 "nbformat": 4,
 "nbformat_minor": 2,
 "metadata": {
  "language_info": {
   "name": "python",
   "codemirror_mode": {
    "name": "ipython",
    "version": 3
   },
   "version": "3.7.6-final"
  },
  "orig_nbformat": 2,
  "file_extension": ".py",
  "mimetype": "text/x-python",
  "name": "python",
  "npconvert_exporter": "python",
  "pygments_lexer": "ipython3",
  "version": 3,
  "kernelspec": {
   "name": "python37664bitmassregressionpipenveb73bcee72c748619fdead5dac788385",
   "display_name": "Python 3.7.6 64-bit ('mass_regression': pipenv)"
  }
 },
 "cells": [
  {
   "cell_type": "code",
   "execution_count": 24,
   "metadata": {},
   "outputs": [],
   "source": [
    "import datetime\n",
    "import os\n",
    "import shutil\n",
    "\n",
    "import tensorflow as tf\n",
    "from tensorboard.plugins.hparams import api as hp\n",
    "from tensorflow import keras\n",
    "from tensorflow.keras import layers\n",
    "from tensorflow.keras.mixed_precision import experimental as mixed_precision\n",
    "from tensorflow.keras.metrics import MeanAbsolutePercentageError, MeanAbsoluteError, RootMeanSquaredError\n",
    "\n",
    "import definitions\n",
    "from training import train, data\n",
    "from training.loguniform import LogUniform\n",
    "from training.stepuniform import StepUniform\n",
    "from training.steploguniform import StepLogUniform\n",
    "from scipy.stats.distributions import randint\n",
    "import numpy as np\n",
    "import pandas as pd\n",
    "\n",
    "import altair as alt\n",
    "\n",
    "alt.data_transformers.enable('data_server')\n",
    "#alt.data_transformers.disable_max_rows()\n",
    "\n",
    "policy = mixed_precision.Policy('mixed_float16')\n",
    "mixed_precision.set_policy(policy)"
   ]
  },
  {
   "cell_type": "code",
   "execution_count": 25,
   "metadata": {},
   "outputs": [],
   "source": [
    "dataset = 'Wlnu'\n",
    "target = 'W'"
   ]
  },
  {
   "cell_type": "code",
   "execution_count": 26,
   "metadata": {},
   "outputs": [
    {
     "name": "stdout",
     "output_type": "stream",
     "text": "Wm_reco\n0     80.70927\n1     72.89712\n2     77.88606\n3     71.34239\n4     74.48588\n...        ...\n9995  64.69530\n9996  45.02896\n9997  43.93967\n9998  74.86523\n9999  83.56715\n\n[10000 rows x 1 columns]\n        Wm_gen\n0     81.10584\n1     79.69392\n2     92.72857\n3     76.64119\n4     80.20827\n...        ...\n9995  80.03781\n9996  82.27058\n9997  79.12370\n9998  80.47066\n9999  86.21435\n\n[10000 rows x 1 columns]\n           METx      METy   Lx_reco   Ly_reco   Lz_reco   Lm_reco\n0      0.441085 -0.123268 -0.738416 -0.248920  0.645141 -0.000997\n1      1.032623 -0.340998 -1.236841 -0.302691  0.932249 -0.000997\n2     -0.308838 -1.228226  0.567540  1.111681 -1.675584 -0.000997\n3     -0.858471  0.119029  1.874423  1.071938 -1.007796 -0.000997\n4      0.403788  0.631750 -1.258448 -1.783140 -1.340958 -0.000997\n...         ...       ...       ...       ...       ...       ...\n79995 -1.070399 -0.769946  1.094526  0.742549 -0.650372 -0.000997\n79996  0.787721  0.803089 -1.202470  0.582324 -0.045666 -0.000997\n79997 -0.591679 -0.670812 -0.965388  0.241642 -2.009183 -0.000997\n79998 -0.823566  0.650868  1.238392 -0.328990 -1.548584 -0.000997\n79999  0.553779  0.479564 -2.746308  0.795546  1.272725 -0.000997\n\n[80000 rows x 6 columns]\n"
    }
   ],
   "source": [
    "jigsaw_train, jigsaw_val, jigsaw_test = data.get_jigsaw(dataset=dataset, target=target)\n",
    "x_train, y_train, x_val, y_val, X_test, y_test = data.get_datasets(dataset=dataset, target=target, scale=True)\n",
    "print(jigsaw_test)\n",
    "print(y_test)\n",
    "print(x_train)"
   ]
  },
  {
   "cell_type": "code",
   "execution_count": 27,
   "metadata": {},
   "outputs": [
    {
     "data": {
      "text/html": "\n<div id=\"altair-viz-e45a985bb78f49b28aa2e5b7de7e27c0\"></div>\n<script type=\"text/javascript\">\n  (function(spec, embedOpt){\n    const outputDiv = document.getElementById(\"altair-viz-e45a985bb78f49b28aa2e5b7de7e27c0\");\n    const paths = {\n      \"vega\": \"https://cdn.jsdelivr.net/npm//vega@5?noext\",\n      \"vega-lib\": \"https://cdn.jsdelivr.net/npm//vega-lib?noext\",\n      \"vega-lite\": \"https://cdn.jsdelivr.net/npm//vega-lite@4.0.2?noext\",\n      \"vega-embed\": \"https://cdn.jsdelivr.net/npm//vega-embed@6?noext\",\n    };\n\n    function loadScript(lib) {\n      return new Promise(function(resolve, reject) {\n        var s = document.createElement('script');\n        s.src = paths[lib];\n        s.async = true;\n        s.onload = () => resolve(paths[lib]);\n        s.onerror = () => reject(`Error loading script: ${paths[lib]}`);\n        document.getElementsByTagName(\"head\")[0].appendChild(s);\n      });\n    }\n\n    function showError(err) {\n      outputDiv.innerHTML = `<div class=\"error\" style=\"color:red;\">${err}</div>`;\n      throw err;\n    }\n\n    function displayChart(vegaEmbed) {\n      vegaEmbed(outputDiv, spec, embedOpt)\n        .catch(err => showError(`Javascript Error: ${err.message}<br>This usually means there's a typo in your chart specification. See the javascript console for the full traceback.`));\n    }\n\n    if(typeof define === \"function\" && define.amd) {\n      requirejs.config({paths});\n      require([\"vega-embed\"], displayChart, err => showError(`Error loading script: ${err.message}`));\n    } else if (typeof vegaEmbed === \"function\") {\n      displayChart(vegaEmbed);\n    } else {\n      loadScript(\"vega\")\n        .then(() => loadScript(\"vega-lite\"))\n        .then(() => loadScript(\"vega-embed\"))\n        .catch(showError)\n        .then(() => displayChart(vegaEmbed));\n    }\n  })({\"config\": {\"view\": {\"continuousWidth\": 400, \"continuousHeight\": 300}}, \"data\": {\"url\": \"http://localhost:17920/82a8eb51176e48168eeb8ccf4a495229.json\"}, \"mark\": \"bar\", \"encoding\": {\"x\": {\"type\": \"quantitative\", \"bin\": true, \"field\": \"Wm_reco\"}, \"y\": {\"type\": \"quantitative\", \"aggregate\": \"count\"}}, \"$schema\": \"https://vega.github.io/schema/vega-lite/v4.0.2.json\"}, {\"mode\": \"vega-lite\"});\n</script>",
      "text/plain": "alt.Chart(...)"
     },
     "execution_count": 27,
     "metadata": {},
     "output_type": "execute_result"
    }
   ],
   "source": [
    "alt.Chart(jigsaw_test).mark_bar().encode(alt.X(f\"{definitions.JIGSAW_TARGETS[dataset][target][0]}:Q\", bin=True), y=\"count()\")"
   ]
  },
  {
   "cell_type": "code",
   "execution_count": 28,
   "metadata": {},
   "outputs": [
    {
     "name": "stdout",
     "output_type": "stream",
     "text": "Actual - Jigsaw\n0             0.39657\n1             6.79680\n2            14.84251\n3             5.29880\n4             5.72239\n...               ...\n9995         15.34251\n9996         37.24162\n9997         35.18403\n9998          5.60543\n9999          2.64720\n\n[10000 rows x 1 columns]\n"
    }
   ],
   "source": [
    "jigsaw_difference = pd.DataFrame({'Actual - Jigsaw': y_test.values[:, 0] - jigsaw_test[definitions.JIGSAW_TARGETS[dataset][target][0]].values})\n",
    "print(jigsaw_difference)"
   ]
  },
  {
   "cell_type": "code",
   "execution_count": 29,
   "metadata": {},
   "outputs": [
    {
     "data": {
      "text/html": "\n<div id=\"altair-viz-88203e055cbb4a4b9e59e61a8383e7ce\"></div>\n<script type=\"text/javascript\">\n  (function(spec, embedOpt){\n    const outputDiv = document.getElementById(\"altair-viz-88203e055cbb4a4b9e59e61a8383e7ce\");\n    const paths = {\n      \"vega\": \"https://cdn.jsdelivr.net/npm//vega@5?noext\",\n      \"vega-lib\": \"https://cdn.jsdelivr.net/npm//vega-lib?noext\",\n      \"vega-lite\": \"https://cdn.jsdelivr.net/npm//vega-lite@4.0.2?noext\",\n      \"vega-embed\": \"https://cdn.jsdelivr.net/npm//vega-embed@6?noext\",\n    };\n\n    function loadScript(lib) {\n      return new Promise(function(resolve, reject) {\n        var s = document.createElement('script');\n        s.src = paths[lib];\n        s.async = true;\n        s.onload = () => resolve(paths[lib]);\n        s.onerror = () => reject(`Error loading script: ${paths[lib]}`);\n        document.getElementsByTagName(\"head\")[0].appendChild(s);\n      });\n    }\n\n    function showError(err) {\n      outputDiv.innerHTML = `<div class=\"error\" style=\"color:red;\">${err}</div>`;\n      throw err;\n    }\n\n    function displayChart(vegaEmbed) {\n      vegaEmbed(outputDiv, spec, embedOpt)\n        .catch(err => showError(`Javascript Error: ${err.message}<br>This usually means there's a typo in your chart specification. See the javascript console for the full traceback.`));\n    }\n\n    if(typeof define === \"function\" && define.amd) {\n      requirejs.config({paths});\n      require([\"vega-embed\"], displayChart, err => showError(`Error loading script: ${err.message}`));\n    } else if (typeof vegaEmbed === \"function\") {\n      displayChart(vegaEmbed);\n    } else {\n      loadScript(\"vega\")\n        .then(() => loadScript(\"vega-lite\"))\n        .then(() => loadScript(\"vega-embed\"))\n        .catch(showError)\n        .then(() => displayChart(vegaEmbed));\n    }\n  })({\"config\": {\"view\": {\"continuousWidth\": 400, \"continuousHeight\": 300}}, \"data\": {\"url\": \"http://localhost:17920/9ab4082ec43ac82350172292be843014.json\"}, \"mark\": \"bar\", \"encoding\": {\"x\": {\"type\": \"quantitative\", \"bin\": {\"extent\": [0, 100], \"step\": 5}, \"field\": \"Actual - Jigsaw\"}, \"y\": {\"type\": \"quantitative\", \"aggregate\": \"count\"}}, \"$schema\": \"https://vega.github.io/schema/vega-lite/v4.0.2.json\"}, {\"mode\": \"vega-lite\"});\n</script>",
      "text/plain": "alt.Chart(...)"
     },
     "execution_count": 29,
     "metadata": {},
     "output_type": "execute_result"
    }
   ],
   "source": [
    "alt.Chart(jigsaw_difference).mark_bar().encode(alt.X(\"Actual - Jigsaw:Q\", bin=alt.Bin(extent=[0, 100], step=5)), y=\"count()\")"
   ]
  },
  {
   "cell_type": "code",
   "execution_count": 30,
   "metadata": {},
   "outputs": [
    {
     "name": "stdout",
     "output_type": "stream",
     "text": "mae = tf.Tensor(16.617048470402004, shape=(), dtype=float64)\nmape = tf.Tensor(20.40721814904974, shape=(), dtype=float64)\nrmse = tf.Tensor(25.327719402850715, shape=(), dtype=float64)\n"
    }
   ],
   "source": [
    "print('mae = ' + str(tf.keras.losses.MAE(y_test.values[:, 0], jigsaw_test.values[:, 0])))\n",
    "print('mape = ' + str(tf.keras.losses.MAPE(y_test.values[:, 0], jigsaw_test.values[:, 0])))\n",
    "print('rmse = ' + str(tf.keras.losses.MSE(y_test.values[:, 0], jigsaw_test.values[:, 0])**0.5))"
   ]
  },
  {
   "cell_type": "code",
   "execution_count": 31,
   "metadata": {},
   "outputs": [
    {
     "name": "stdout",
     "output_type": "stream",
     "text": "Wm_gen\n0     81.34052\n1     86.00704\n2     84.13220\n3     85.02779\n4     80.34086\n...        ...\n9995  79.20677\n9996  80.51755\n9997  81.02884\n9998  80.53999\n9999  81.03747\n\n[10000 rows x 1 columns]\nWm_gen    24.26636\ndtype: float64\nWm_gen    5660.585\ndtype: float64\n         Wm_gen\n0      80.70409\n1      79.64823\n2      78.37740\n3      80.05252\n4      79.60021\n...         ...\n79995  79.93488\n79996  80.11201\n79997  80.72748\n79998  80.65090\n79999  81.30719\n\n[80000 rows x 1 columns]\n         Wm_gen\n3004   4000.270\n5605   1622.509\n11039  1134.112\n42519  5660.585\n"
    }
   ],
   "source": [
    "print(y_val)\n",
    "print(y_train.min())\n",
    "print(y_train.max())\n",
    "print(y_train)\n",
    "print(y_train[y_train['Wm_gen'] > 1000])"
   ]
  },
  {
   "cell_type": "code",
   "execution_count": 32,
   "metadata": {},
   "outputs": [
    {
     "data": {
      "text/html": "\n<div id=\"altair-viz-0fbe0a0256394c7ab055fca0ff5c6191\"></div>\n<script type=\"text/javascript\">\n  (function(spec, embedOpt){\n    const outputDiv = document.getElementById(\"altair-viz-0fbe0a0256394c7ab055fca0ff5c6191\");\n    const paths = {\n      \"vega\": \"https://cdn.jsdelivr.net/npm//vega@5?noext\",\n      \"vega-lib\": \"https://cdn.jsdelivr.net/npm//vega-lib?noext\",\n      \"vega-lite\": \"https://cdn.jsdelivr.net/npm//vega-lite@4.0.2?noext\",\n      \"vega-embed\": \"https://cdn.jsdelivr.net/npm//vega-embed@6?noext\",\n    };\n\n    function loadScript(lib) {\n      return new Promise(function(resolve, reject) {\n        var s = document.createElement('script');\n        s.src = paths[lib];\n        s.async = true;\n        s.onload = () => resolve(paths[lib]);\n        s.onerror = () => reject(`Error loading script: ${paths[lib]}`);\n        document.getElementsByTagName(\"head\")[0].appendChild(s);\n      });\n    }\n\n    function showError(err) {\n      outputDiv.innerHTML = `<div class=\"error\" style=\"color:red;\">${err}</div>`;\n      throw err;\n    }\n\n    function displayChart(vegaEmbed) {\n      vegaEmbed(outputDiv, spec, embedOpt)\n        .catch(err => showError(`Javascript Error: ${err.message}<br>This usually means there's a typo in your chart specification. See the javascript console for the full traceback.`));\n    }\n\n    if(typeof define === \"function\" && define.amd) {\n      requirejs.config({paths});\n      require([\"vega-embed\"], displayChart, err => showError(`Error loading script: ${err.message}`));\n    } else if (typeof vegaEmbed === \"function\") {\n      displayChart(vegaEmbed);\n    } else {\n      loadScript(\"vega\")\n        .then(() => loadScript(\"vega-lite\"))\n        .then(() => loadScript(\"vega-embed\"))\n        .catch(showError)\n        .then(() => displayChart(vegaEmbed));\n    }\n  })({\"config\": {\"view\": {\"continuousWidth\": 400, \"continuousHeight\": 300}}, \"data\": {\"url\": \"http://localhost:17920/6ea67033f5766676ea25afc05d734a9c.json\"}, \"mark\": \"bar\", \"encoding\": {\"x\": {\"type\": \"quantitative\", \"bin\": {\"extent\": [40, 130], \"step\": 5}, \"field\": \"Wm_gen\"}, \"y\": {\"type\": \"quantitative\", \"aggregate\": \"count\"}}, \"$schema\": \"https://vega.github.io/schema/vega-lite/v4.0.2.json\"}, {\"mode\": \"vega-lite\"});\n</script>",
      "text/plain": "alt.Chart(...)"
     },
     "execution_count": 32,
     "metadata": {},
     "output_type": "execute_result"
    }
   ],
   "source": [
    "alt.Chart(y_train).mark_bar().encode(alt.X(\"Wm_gen:Q\", bin=alt.Bin(extent=[40, 130], step=5)), y=\"count()\")"
   ]
  },
  {
   "cell_type": "code",
   "execution_count": 33,
   "metadata": {},
   "outputs": [],
   "source": [
    "def build_model(hparams, input_shape):\n",
    "    model = keras.Sequential()\n",
    "    model.add(layers.Flatten(input_shape=input_shape))\n",
    "    for _ in range(hparams['num_layers']):\n",
    "        model.add(layers.Dense(units=hparams['num_units'],\n",
    "                               activation='relu'))\n",
    "    model.add(layers.Dense(1))\n",
    "    model.compile(\n",
    "        optimizer=keras.optimizers.Adam(\n",
    "            hparams['learning_rate']),\n",
    "        loss='mean_squared_error',\n",
    "        metrics=[MeanAbsolutePercentageError(), MeanAbsoluteError(), RootMeanSquaredError()])\n",
    "    return model"
   ]
  },
  {
   "cell_type": "code",
   "execution_count": 34,
   "metadata": {},
   "outputs": [
    {
     "name": "stdout",
     "output_type": "stream",
     "text": "C:\\Users\\alexj\\work\\mass_regression\\logs\\Wlnu\\v1\n"
    }
   ],
   "source": [
    "log_dir = definitions.LOG_DIR / 'Wlnu' / 'v1'\n",
    "shutil.rmtree(log_dir)\n",
    "log_dir.mkdir()\n",
    "hp_rv = {'num_layers': randint(1, 2),\n",
    "            'num_units': StepUniform(start=10, num=10, step=10),\n",
    "            'learning_rate': LogUniform(loc=-5, scale=4, base=10, discrete=False),\n",
    "            'batch_size': StepLogUniform(start=5, num=4, step=1, base=2),\n",
    "            'epochs': randint(10, 100)}\n",
    "print(log_dir)"
   ]
  },
  {
   "cell_type": "code",
   "execution_count": 35,
   "metadata": {},
   "outputs": [
    {
     "name": "stdout",
     "output_type": "stream",
     "text": "tage_error: 85.5228 - mean_absolute_error: 69.7001 - root_mean_squared_error: 75.0578 - val_loss: inf - val_mean_absolute_percentage_error: 85.1834 - val_mean_absolute_error: 69.3099 - val_root_mean_squared_error: 71.0320\nEpoch 58/86\n80000/80000 [==============================] - 3s 41us/sample - loss: inf - mean_absolute_percentage_error: 85.0908 - mean_absolute_error: 69.3512 - root_mean_squared_error: 74.7425 - val_loss: inf - val_mean_absolute_percentage_error: 84.7110 - val_mean_absolute_error: 68.9289 - val_root_mean_squared_error: 70.6908\nEpoch 59/86\n80000/80000 [==============================] - 3s 42us/sample - loss: inf - mean_absolute_percentage_error: 84.6654 - mean_absolute_error: 69.0079 - root_mean_squared_error: 74.4375 - val_loss: inf - val_mean_absolute_percentage_error: 84.2897 - val_mean_absolute_error: 68.5891 - val_root_mean_squared_error: 70.3873\nEpoch 60/86\n80000/80000 [==============================] - 3s 41us/sample - loss: inf - mean_absolute_percentage_error: 84.2411 - mean_absolute_error: 68.6654 - root_mean_squared_error: 74.1315 - val_loss: inf - val_mean_absolute_percentage_error: 83.8323 - val_mean_absolute_error: 68.2202 - val_root_mean_squared_error: 70.0592\nEpoch 61/86\n80000/80000 [==============================] - 3s 42us/sample - loss: inf - mean_absolute_percentage_error: 83.8185 - mean_absolute_error: 68.3245 - root_mean_squared_error: 73.8341 - val_loss: inf - val_mean_absolute_percentage_error: 83.4014 - val_mean_absolute_error: 67.8727 - val_root_mean_squared_error: 69.7514\nEpoch 62/86\n80000/80000 [==============================] - 3s 43us/sample - loss: inf - mean_absolute_percentage_error: 83.3860 - mean_absolute_error: 67.9754 - root_mean_squared_error: 73.5248 - val_loss: inf - val_mean_absolute_percentage_error: 82.9406 - val_mean_absolute_error: 67.5010 - val_root_mean_squared_error: 69.4236\nEpoch 63/86\n80000/80000 [==============================] - 3s 42us/sample - loss: inf - mean_absolute_percentage_error: 82.9602 - mean_absolute_error: 67.6318 - root_mean_squared_error: 73.2212 - val_loss: inf - val_mean_absolute_percentage_error: 82.4793 - val_mean_absolute_error: 67.1290 - val_root_mean_squared_error: 69.0969\nEpoch 64/86\n80000/80000 [==============================] - 3s 42us/sample - loss: inf - mean_absolute_percentage_error: 82.5046 - mean_absolute_error: 67.2640 - root_mean_squared_error: 72.8981 - val_loss: inf - val_mean_absolute_percentage_error: 82.0069 - val_mean_absolute_error: 66.7480 - val_root_mean_squared_error: 68.7640\nEpoch 65/86\n80000/80000 [==============================] - 3s 42us/sample - loss: inf - mean_absolute_percentage_error: 82.0640 - mean_absolute_error: 66.9086 - root_mean_squared_error: 72.5856 - val_loss: inf - val_mean_absolute_percentage_error: 81.5350 - val_mean_absolute_error: 66.3675 - val_root_mean_squared_error: 68.4327\nEpoch 66/86\n80000/80000 [==============================] - 3s 42us/sample - loss: inf - mean_absolute_percentage_error: 81.5882 - mean_absolute_error: 66.5243 - root_mean_squared_error: 72.2468 - val_loss: inf - val_mean_absolute_percentage_error: 81.0226 - val_mean_absolute_error: 65.9541 - val_root_mean_squared_error: 68.0754\nEpoch 67/86\n80000/80000 [==============================] - 3s 42us/sample - loss: inf - mean_absolute_percentage_error: 81.1255 - mean_absolute_error: 66.1511 - root_mean_squared_error: 71.9271 - val_loss: inf - val_mean_absolute_percentage_error: 80.5536 - val_mean_absolute_error: 65.5760 - val_root_mean_squared_error: 67.7497\nEpoch 68/86\n80000/80000 [==============================] - 3s 41us/sample - loss: inf - mean_absolute_percentage_error: 80.6577 - mean_absolute_error: 65.7736 - root_mean_squared_error: 71.5989 - val_loss: inf - val_mean_absolute_percentage_error: 80.0587 - val_mean_absolute_error: 65.1768 - val_root_mean_squared_error: 67.4080\nEpoch 69/86\n80000/80000 [==============================] - 3s 42us/sample - loss: inf - mean_absolute_percentage_error: 80.1981 - mean_absolute_error: 65.4027 - root_mean_squared_error: 71.2791 - val_loss: inf - val_mean_absolute_percentage_error: 79.5609 - val_mean_absolute_error: 64.7754 - val_root_mean_squared_error: 67.0659\nEpoch 70/86\n80000/80000 [==============================] - 3s 42us/sample - loss: inf - mean_absolute_percentage_error: 79.7151 - mean_absolute_error: 65.0131 - root_mean_squared_error: 70.9437 - val_loss: inf - val_mean_absolute_percentage_error: 79.0611 - val_mean_absolute_error: 64.3723 - val_root_mean_squared_error: 66.7243\nEpoch 71/86\n80000/80000 [==============================] - 4s 48us/sample - loss: inf - mean_absolute_percentage_error: 79.2448 - mean_absolute_error: 64.6336 - root_mean_squared_error: 70.6163 - val_loss: inf - val_mean_absolute_percentage_error: 78.5464 - val_mean_absolute_error: 63.9572 - val_root_mean_squared_error: 66.3745\nEpoch 72/86\n80000/80000 [==============================] - 4s 46us/sample - loss: inf - mean_absolute_percentage_error: 78.7450 - mean_absolute_error: 64.2304 - root_mean_squared_error: 70.2741 - val_loss: inf - val_mean_absolute_percentage_error: 78.0419 - val_mean_absolute_error: 63.5505 - val_root_mean_squared_error: 66.0333\nEpoch 73/86\n80000/80000 [==============================] - 4s 46us/sample - loss: inf - mean_absolute_percentage_error: 78.2648 - mean_absolute_error: 63.8430 - root_mean_squared_error: 69.9451 - val_loss: inf - val_mean_absolute_percentage_error: 77.5185 - val_mean_absolute_error: 63.1284 - val_root_mean_squared_error: 65.6813\nEpoch 74/86\n80000/80000 [==============================] - 4s 44us/sample - loss: inf - mean_absolute_percentage_error: 77.7542 - mean_absolute_error: 63.4309 - root_mean_squared_error: 69.5939 - val_loss: inf - val_mean_absolute_percentage_error: 76.9872 - val_mean_absolute_error: 62.6999 - val_root_mean_squared_error: 65.3266\nEpoch 75/86\n80000/80000 [==============================] - 4s 45us/sample - loss: inf - mean_absolute_percentage_error: 77.2738 - mean_absolute_error: 63.0435 - root_mean_squared_error: 69.2692 - val_loss: inf - val_mean_absolute_percentage_error: 76.4897 - val_mean_absolute_error: 62.2987 - val_root_mean_squared_error: 64.9968\nEpoch 76/86\n80000/80000 [==============================] - 4s 44us/sample - loss: inf - mean_absolute_percentage_error: 76.7823 - mean_absolute_error: 62.6468 - root_mean_squared_error: 68.9359 - val_loss: inf - val_mean_absolute_percentage_error: 75.9496 - val_mean_absolute_error: 61.8632 - val_root_mean_squared_error: 64.6403\nEpoch 77/86\n80000/80000 [==============================] - 4s 44us/sample - loss: inf - mean_absolute_percentage_error: 76.2428 - mean_absolute_error: 62.2116 - root_mean_squared_error: 68.5650 - val_loss: inf - val_mean_absolute_percentage_error: 75.3601 - val_mean_absolute_error: 61.3880 - val_root_mean_squared_error: 64.2548\nEpoch 78/86\n80000/80000 [==============================] - 4s 44us/sample - loss: inf - mean_absolute_percentage_error: 75.6849 - mean_absolute_error: 61.7616 - root_mean_squared_error: 68.1898 - val_loss: inf - val_mean_absolute_percentage_error: 74.8009 - val_mean_absolute_error: 60.9371 - val_root_mean_squared_error: 63.8909\nEpoch 79/86\n80000/80000 [==============================] - 4s 44us/sample - loss: inf - mean_absolute_percentage_error: 75.1674 - mean_absolute_error: 61.3440 - root_mean_squared_error: 67.8398 - val_loss: inf - val_mean_absolute_percentage_error: 74.2398 - val_mean_absolute_error: 60.4846 - val_root_mean_squared_error: 63.5285\nEpoch 80/86\n80000/80000 [==============================] - 3s 43us/sample - loss: inf - mean_absolute_percentage_error: 74.6024 - mean_absolute_error: 60.8882 - root_mean_squared_error: 67.4554 - val_loss: inf - val_mean_absolute_percentage_error: 73.6134 - val_mean_absolute_error: 59.9795 - val_root_mean_squared_error: 63.1247\nEpoch 81/86\n80000/80000 [==============================] - 3s 43us/sample - loss: inf - mean_absolute_percentage_error: 74.0460 - mean_absolute_error: 60.4394 - root_mean_squared_error: 67.0880 - val_loss: inf - val_mean_absolute_percentage_error: 73.0659 - val_mean_absolute_error: 59.5380 - val_root_mean_squared_error: 62.7736\nEpoch 82/86\n80000/80000 [==============================] - 3s 43us/sample - loss: inf - mean_absolute_percentage_error: 73.5130 - mean_absolute_error: 60.0092 - root_mean_squared_error: 66.7350 - val_loss: inf - val_mean_absolute_percentage_error: 72.5161 - val_mean_absolute_error: 59.0946 - val_root_mean_squared_error: 62.4229\nEpoch 83/86\n80000/80000 [==============================] - 3s 44us/sample - loss: inf - mean_absolute_percentage_error: 72.9637 - mean_absolute_error: 59.5658 - root_mean_squared_error: 66.3665 - val_loss: inf - val_mean_absolute_percentage_error: 71.9157 - val_mean_absolute_error: 58.6104 - val_root_mean_squared_error: 62.0413\nEpoch 84/86\n80000/80000 [==============================] - 4s 44us/sample - loss: inf - mean_absolute_percentage_error: 72.3772 - mean_absolute_error: 59.0926 - root_mean_squared_error: 65.9752 - val_loss: inf - val_mean_absolute_percentage_error: 71.3092 - val_mean_absolute_error: 58.1212 - val_root_mean_squared_error: 61.6599\nEpoch 85/86\n80000/80000 [==============================] - 3s 44us/sample - loss: inf - mean_absolute_percentage_error: 71.8092 - mean_absolute_error: 58.6343 - root_mean_squared_error: 65.5984 - val_loss: inf - val_mean_absolute_percentage_error: 70.6935 - val_mean_absolute_error: 57.6247 - val_root_mean_squared_error: 61.2739\nEpoch 86/86\n80000/80000 [==============================] - 4s 45us/sample - loss: inf - mean_absolute_percentage_error: 71.2130 - mean_absolute_error: 58.1532 - root_mean_squared_error: 65.2047 - val_loss: inf - val_mean_absolute_percentage_error: 70.1038 - val_mean_absolute_error: 57.1492 - val_root_mean_squared_error: 60.9052\n10000/10000 [==============================] - 1s 63us/sample - loss: inf - mean_absolute_percentage_error: 70.1038 - mean_absolute_error: 57.1492 - root_mean_squared_error: 60.9052\nTrain on 80000 samples, validate on 10000 samples\nEpoch 1/11\n80000/80000 [==============================] - 2s 21us/sample - loss: inf - mean_absolute_percentage_error: 98.9526 - mean_absolute_error: 80.5426 - root_mean_squared_error: 85.2707 - val_loss: inf - val_mean_absolute_percentage_error: 98.7612 - val_mean_absolute_error: 80.2619 - val_root_mean_squared_error: 81.4140\nEpoch 2/11\n80000/80000 [==============================] - 1s 16us/sample - loss: inf - mean_absolute_percentage_error: 98.4847 - mean_absolute_error: 80.1638 - root_mean_squared_error: 84.8993 - val_loss: inf - val_mean_absolute_percentage_error: 98.3256 - val_mean_absolute_error: 79.9097 - val_root_mean_squared_error: 81.0619\nEpoch 3/11\n80000/80000 [==============================] - 1s 16us/sample - loss: inf - mean_absolute_percentage_error: 98.0064 - mean_absolute_error: 79.7766 - root_mean_squared_error: 84.5213 - val_loss: inf - val_mean_absolute_percentage_error: 97.8538 - val_mean_absolute_error: 79.5283 - val_root_mean_squared_error: 80.6810\nEpoch 4/11\n80000/80000 [==============================] - 1s 15us/sample - loss: inf - mean_absolute_percentage_error: 97.4900 - mean_absolute_error: 79.3585 - root_mean_squared_error: 84.1145 - val_loss: inf - val_mean_absolute_percentage_error: 97.3380 - val_mean_absolute_error: 79.1113 - val_root_mean_squared_error: 80.2652\nEpoch 5/11\n80000/80000 [==============================] - 1s 15us/sample - loss: inf - mean_absolute_percentage_error: 96.9302 - mean_absolute_error: 78.9055 - root_mean_squared_error: 83.6782 - val_loss: inf - val_mean_absolute_percentage_error: 96.7801 - val_mean_absolute_error: 78.6603 - val_root_mean_squared_error: 79.8164\nEpoch 6/11\n80000/80000 [==============================] - 1s 15us/sample - loss: inf - mean_absolute_percentage_error: 96.3324 - mean_absolute_error: 78.4217 - root_mean_squared_error: 83.2069 - val_loss: inf - val_mean_absolute_percentage_error: 96.1723 - val_mean_absolute_error: 78.1691 - val_root_mean_squared_error: 79.3283\nEpoch 7/11\n80000/80000 [==============================] - 1s 15us/sample - loss: inf - mean_absolute_percentage_error: 95.6868 - mean_absolute_error: 77.8992 - root_mean_squared_error: 82.6992 - val_loss: inf - val_mean_absolute_percentage_error: 95.5176 - val_mean_absolute_error: 77.6399 - val_root_mean_squared_error: 78.8036\nEpoch 8/11\n80000/80000 [==============================] - 1s 15us/sample - loss: inf - mean_absolute_percentage_error: 94.9928 - mean_absolute_error: 77.3376 - root_mean_squared_error: 82.1603 - val_loss: inf - val_mean_absolute_percentage_error: 94.8197 - val_mean_absolute_error: 77.0758 - val_root_mean_squared_error: 78.2457\nEpoch 9/11\n80000/80000 [==============================] - 1s 15us/sample - loss: inf - mean_absolute_percentage_error: 94.2615 - mean_absolute_error: 76.7458 - root_mean_squared_error: 81.5930 - val_loss: inf - val_mean_absolute_percentage_error: 94.0813 - val_mean_absolute_error: 76.4791 - val_root_mean_squared_error: 77.6573\nEpoch 10/11\n80000/80000 [==============================] - 1s 15us/sample - loss: inf - mean_absolute_percentage_error: 93.4932 - mean_absolute_error: 76.1241 - root_mean_squared_error: 80.9912 - val_loss: inf - val_mean_absolute_percentage_error: 93.2905 - val_mean_absolute_error: 75.8400 - val_root_mean_squared_error: 77.0289\nEpoch 11/11\n80000/80000 [==============================] - 1s 15us/sample - loss: inf - mean_absolute_percentage_error: 92.6721 - mean_absolute_error: 75.4599 - root_mean_squared_error: 80.3567 - val_loss: inf - val_mean_absolute_percentage_error: 92.4628 - val_mean_absolute_error: 75.1712 - val_root_mean_squared_error: 76.3735\n10000/10000 [==============================] - 1s 54us/sample - loss: inf - mean_absolute_percentage_error: 92.4628 - mean_absolute_error: 75.1712 - root_mean_squared_error: 76.3735\nTrain on 80000 samples, validate on 10000 samples\nEpoch 1/60\n80000/80000 [==============================] - 8s 98us/sample - loss: inf - mean_absolute_percentage_error: 98.9785 - mean_absolute_error: 80.5634 - root_mean_squared_error: 85.2439 - val_loss: inf - val_mean_absolute_percentage_error: 98.2525 - val_mean_absolute_error: 79.8512 - val_root_mean_squared_error: 81.0069\nEpoch 2/60\n80000/80000 [==============================] - 8s 98us/sample - loss: inf - mean_absolute_percentage_error: 97.4416 - mean_absolute_error: 79.3188 - root_mean_squared_error: 84.0197 - val_loss: inf - val_mean_absolute_percentage_error: 96.7273 - val_mean_absolute_error: 78.6179 - val_root_mean_squared_error: 79.7772\nEpoch 3/60\n80000/80000 [==============================] - 8s 95us/sample - loss: inf - mean_absolute_percentage_error: 95.7411 - mean_absolute_error: 77.9421 - root_mean_squared_error: 82.6564 - val_loss: inf - val_mean_absolute_percentage_error: 94.8481 - val_mean_absolute_error: 77.0990 - val_root_mean_squared_error: 78.2704\nEpoch 4/60\n80000/80000 [==============================] - 7s 90us/sample - loss: inf - mean_absolute_percentage_error: 93.8039 - mean_absolute_error: 76.3747 - root_mean_squared_error: 81.1322 - val_loss: inf - val_mean_absolute_percentage_error: 92.8492 - val_mean_absolute_error: 75.4845 - val_root_mean_squared_error: 76.6821\nEpoch 5/60\n80000/80000 [==============================] - 8s 94us/sample - loss: inf - mean_absolute_percentage_error: 91.6931 - mean_absolute_error: 74.6671 - root_mean_squared_error: 79.4887 - val_loss: inf - val_mean_absolute_percentage_error: 90.4538 - val_mean_absolute_error: 73.5500 - val_root_mean_squared_error: 74.7957\nEpoch 6/60\n80000/80000 [==============================] - 8s 94us/sample - loss: inf - mean_absolute_percentage_error: 89.0275 - mean_absolute_error: 72.5119 - root_mean_squared_error: 77.3912 - val_loss: inf - val_mean_absolute_percentage_error: 87.3837 - val_mean_absolute_error: 71.0702 - val_root_mean_squared_error: 72.4007\nEpoch 7/60\n80000/80000 [==============================] - 8s 96us/sample - loss: inf - mean_absolute_percentage_error: 85.8114 - mean_absolute_error: 69.9109 - root_mean_squared_error: 74.8993 - val_loss: inf - val_mean_absolute_percentage_error: 84.1007 - val_mean_absolute_error: 68.4194 - val_root_mean_squared_error: 69.8808\nEpoch 8/60\n80000/80000 [==============================] - 7s 92us/sample - loss: inf - mean_absolute_percentage_error: 82.6873 - mean_absolute_error: 67.3857 - root_mean_squared_error: 72.5296 - val_loss: inf - val_mean_absolute_percentage_error: 80.6525 - val_mean_absolute_error: 65.6362 - val_root_mean_squared_error: 67.2916\nEpoch 9/60\n80000/80000 [==============================] - 8s 95us/sample - loss: inf - mean_absolute_percentage_error: 79.0664 - mean_absolute_error: 64.4593 - root_mean_squared_error: 69.7875 - val_loss: inf - val_mean_absolute_percentage_error: 76.5710 - val_mean_absolute_error: 62.3413 - val_root_mean_squared_error: 64.2945\nEpoch 10/60\n80000/80000 [==============================] - 8s 100us/sample - loss: inf - mean_absolute_percentage_error: 74.8970 - mean_absolute_error: 61.0888 - root_mean_squared_error: 66.6281 - val_loss: inf - val_mean_absolute_percentage_error: 72.0313 - val_mean_absolute_error: 58.6766 - val_root_mean_squared_error: 61.0648\nEpoch 11/60\n80000/80000 [==============================] - 8s 98us/sample - loss: inf - mean_absolute_percentage_error: 70.1681 - mean_absolute_error: 57.2643 - root_mean_squared_error: 63.0381 - val_loss: inf - val_mean_absolute_percentage_error: 66.8137 - val_mean_absolute_error: 54.4635 - val_root_mean_squared_error: 57.4832\nEpoch 12/60\n80000/80000 [==============================] - 7s 90us/sample - loss: inf - mean_absolute_percentage_error: 65.2498 - mean_absolute_error: 53.2901 - root_mean_squared_error: 59.4388 - val_loss: inf - val_mean_absolute_percentage_error: 61.8848 - val_mean_absolute_error: 50.4832 - val_root_mean_squared_error: 54.3131\nEpoch 13/60\n80000/80000 [==============================] - 8s 99us/sample - loss: inf - mean_absolute_percentage_error: 60.5840 - mean_absolute_error: 49.5219 - root_mean_squared_error: 56.1350 - val_loss: inf - val_mean_absolute_percentage_error: 56.9256 - val_mean_absolute_error: 46.4738 - val_root_mean_squared_error: 51.2992\nEpoch 14/60\n80000/80000 [==============================] - 8s 99us/sample - loss: inf - mean_absolute_percentage_error: 55.5127 - mean_absolute_error: 45.4236 - root_mean_squared_error: 52.5642 - val_loss: inf - val_mean_absolute_percentage_error: 51.9084 - val_mean_absolute_error: 42.4108 - val_root_mean_squared_error: 48.3108\nEpoch 15/60\n80000/80000 [==============================] - 8s 97us/sample - loss: inf - mean_absolute_percentage_error: 49.9111 - mean_absolute_error: 40.8949 - root_mean_squared_error: 48.7338 - val_loss: inf - val_mean_absolute_percentage_error: 47.3620 - val_mean_absolute_error: 38.7197 - val_root_mean_squared_error: 45.5071\nEpoch 16/60\n80000/80000 [==============================] - 8s 95us/sample - loss: inf - mean_absolute_percentage_error: 43.9604 - mean_absolute_error: 36.0810 - root_mean_squared_error: 44.6669 - val_loss: inf - val_mean_absolute_percentage_error: 43.9298 - val_mean_absolute_error: 35.9187 - val_root_mean_squared_error: 43.1556\nEpoch 17/60\n80000/80000 [==============================] - 7s 92us/sample - loss: inf - mean_absolute_percentage_error: 38.0545 - mean_absolute_error: 31.2999 - root_mean_squared_error: 40.9125 - val_loss: inf - val_mean_absolute_percentage_error: 42.1183 - val_mean_absolute_error: 34.4257 - val_root_mean_squared_error: 41.6870\nEpoch 18/60\n80000/80000 [==============================] - 8s 97us/sample - loss: inf - mean_absolute_percentage_error: 32.4680 - mean_absolute_error: 26.7728 - root_mean_squared_error: 37.5426 - val_loss: inf - val_mean_absolute_percentage_error: 41.6250 - val_mean_absolute_error: 34.0007 - val_root_mean_squared_error: 41.1561\nEpoch 19/60\n79424/80000 [============================>.] - ETA: 0s - loss: inf - mean_absolute_percentage_error: 27.4291 - mean_absolute_error: 22.6823 - root_mean_squared_error: 34.6085"
    }
   ],
   "source": [
    "train.random_search(build_fn=build_model, x=x_train, y=y_train, x_val=x_val, y_val=y_val, n=20, hp_rv=hp_rv, log_dir=log_dir)"
   ]
  },
  {
   "cell_type": "code",
   "execution_count": 0,
   "metadata": {},
   "outputs": [],
   "source": [
    "model = tf.keras.models.load_model(str(log_dir / 'best_model.h5'))"
   ]
  },
  {
   "cell_type": "code",
   "execution_count": 0,
   "metadata": {},
   "outputs": [],
   "source": [
    "y_pred = model.predict(x_val)\n",
    "print(y_pred[:, 0].shape)"
   ]
  },
  {
   "cell_type": "code",
   "execution_count": 0,
   "metadata": {},
   "outputs": [],
   "source": [
    "import altair as alt\n",
    "from vega_datasets import data\n",
    "\n",
    "import pandas as pd"
   ]
  },
  {
   "cell_type": "code",
   "execution_count": 0,
   "metadata": {},
   "outputs": [],
   "source": [
    "chart_data = pd.DataFrame({'Price': np.concatenate((y_pred[:, 0], y_val)), 'Type': ['Estimate']*y_pred.shape[0] + ['Actual']*y_pred.shape[0]})\n",
    "print(chart_data)"
   ]
  },
  {
   "cell_type": "code",
   "execution_count": 0,
   "metadata": {},
   "outputs": [],
   "source": [
    "alt.Chart(chart_data).mark_bar().encode(alt.X(\"Price:Q\", bin=True), y=\"count()\", color=\"Type\")"
   ]
  },
  {
   "cell_type": "code",
   "execution_count": 0,
   "metadata": {},
   "outputs": [],
   "source": [
    "difference = y_pred[:, 0] - y_val"
   ]
  },
  {
   "cell_type": "code",
   "execution_count": 0,
   "metadata": {},
   "outputs": [],
   "source": [
    "chart_data = pd.DataFrame({'Actual - Expected': difference})\n",
    "print(chart_data)"
   ]
  },
  {
   "cell_type": "code",
   "execution_count": 0,
   "metadata": {},
   "outputs": [],
   "source": [
    "alt.Chart(chart_data).mark_bar().encode(alt.X(\"Actual - Expected:Q\", bin=alt.Bin(step=2)), y=\"count()\")"
   ]
  },
  {
   "cell_type": "code",
   "execution_count": null,
   "metadata": {},
   "outputs": [],
   "source": []
  }
 ]
}