{
 "nbformat": 4,
 "nbformat_minor": 2,
 "metadata": {
  "language_info": {
   "name": "python",
   "codemirror_mode": {
    "name": "ipython",
    "version": 3
   },
   "version": "3.7.6-final"
  },
  "orig_nbformat": 2,
  "file_extension": ".py",
  "mimetype": "text/x-python",
  "name": "python",
  "npconvert_exporter": "python",
  "pygments_lexer": "ipython3",
  "version": 3,
  "kernelspec": {
   "name": "python37664bitmassregressionpipenveb73bcee72c748619fdead5dac788385",
   "display_name": "Python 3.7.6 64-bit ('mass_regression': pipenv)"
  }
 },
 "cells": [
  {
   "cell_type": "code",
   "execution_count": 1,
   "metadata": {},
   "outputs": [],
   "source": [
    "import datetime\n",
    "\n",
    "import tensorflow as tf\n",
    "from tensorboard.plugins.hparams import api as hp\n",
    "from tensorflow import keras\n",
    "from tensorflow.keras import layers\n",
    "from tensorflow.keras.mixed_precision import experimental as mixed_precision\n",
    "from tensorflow.keras.metrics import MeanAbsolutePercentageError, MeanAbsoluteError, RootMeanSquaredError\n",
    "\n",
    "import definitions\n",
    "from training import train\n",
    "from training.loguniform import LogUniform\n",
    "from training.stepuniform import StepUniform\n",
    "from training.steploguniform import StepLogUniform\n",
    "from scipy.stats.distributions import randint\n",
    "import numpy as np\n",
    "\n",
    "policy = mixed_precision.Policy('mixed_float16')\n",
    "mixed_precision.set_policy(policy)"
   ]
  },
  {
   "cell_type": "code",
   "execution_count": 2,
   "metadata": {},
   "outputs": [],
   "source": [
    "def build_model(hparams):\n",
    "    model = keras.Sequential()\n",
    "    model.add(layers.Flatten(input_shape=(13,)))\n",
    "    for _ in range(hparams['num_layers']):\n",
    "        model.add(layers.Dense(units=hparams['num_units'],\n",
    "                               activation='relu'))\n",
    "    model.add(layers.Dense(1))\n",
    "    model.compile(\n",
    "        optimizer=keras.optimizers.Adam(\n",
    "            hparams['learning_rate']),\n",
    "        loss='mean_squared_error',\n",
    "        metrics=[MeanAbsolutePercentageError(), MeanAbsoluteError(), RootMeanSquaredError()])\n",
    "    return model"
   ]
  },
  {
   "cell_type": "code",
   "execution_count": 3,
   "metadata": {},
   "outputs": [
    {
     "name": "stdout",
     "output_type": "stream",
     "text": "C:\\Users\\alexj\\work\\mass_regression\\logs\\Wlnu\\test\n"
    }
   ],
   "source": [
    "log_dir = definitions.LOG_DIR / 'Wlnu' / 'test'\n",
    "hp_rv = {'num_layers': randint(2, 5),\n",
    "            'num_units': StepUniform(start=128, num=10, step=128),\n",
    "            'learning_rate': LogUniform(loc=-4, scale=2, base=10, discrete=False),\n",
    "            'batch_size': StepLogUniform(start=5, num=4, step=1, base=2),\n",
    "            'epochs': randint(100, 1000)}\n",
    "print(log_dir)"
   ]
  },
  {
   "cell_type": "code",
   "execution_count": 26,
   "metadata": {},
   "outputs": [
    {
     "name": "stdout",
     "output_type": "stream",
     "text": "[15.2 42.3 50.  21.1 17.7 18.5 11.3 15.6 15.6 14.4 12.1 17.9 23.1 19.9\n 15.7  8.8 50.  22.5 24.1 27.5 10.9 30.8 32.9 24.  18.5 13.3 22.9 34.7\n 16.6 17.5 22.3 16.1 14.9 23.1 34.9 25.  13.9 13.1 20.4 20.  15.2 24.7\n 22.2 16.7 12.7 15.6 18.4 21.  30.1 15.1 18.7  9.6 31.5 24.8 19.1 22.\n 14.5 11.  32.  29.4 20.3 24.4 14.6 19.5 14.1 14.3 15.6 10.5  6.3 19.3\n 19.3 13.4 36.4 17.8 13.5 16.5  8.3 14.3 16.  13.4 28.6 43.5 20.2 22.\n 23.  20.7 12.5 48.5 14.6 13.4 23.7 50.  21.7 39.8 38.7 22.2 34.9 22.5\n 31.1 28.7 46.  41.7 21.  26.6 15.  24.4 13.3 21.2 11.7 21.7 19.4 50.\n 22.8 19.7 24.7 36.2 14.2 18.9 18.3 20.6 24.6 18.2  8.7 44.  10.4 13.2\n 21.2 37.  30.7 22.9 20.  19.3 31.7 32.  23.1 18.8 10.9 50.  19.6  5.\n 14.4 19.8 13.8 19.6 23.9 24.5 25.  19.9 17.2 24.6 13.5 26.6 21.4 11.9\n 22.6 19.6  8.5 23.7 23.1 22.4 20.5 23.6 18.4 35.2 23.1 27.9 20.6 23.7\n 28.  13.6 27.1 23.6 20.6 18.2 21.7 17.1  8.4 25.3 13.8 22.2 18.4 20.7\n 31.6 30.5 20.3  8.8 19.2 19.4 23.1 23.  14.8 48.8 22.6 33.4 21.1 13.6\n 32.2 13.1 23.4 18.9 23.9 11.8 23.3 22.8 19.6 16.7 13.4 22.2 20.4 21.8\n 26.4 14.9 24.1 23.8 12.3 29.1 21.  19.5 23.3 23.8 17.8 11.5 21.7 19.9\n 25.  33.4 28.5 21.4 24.3 27.5 33.1 16.2 23.3 48.3 22.9 22.8 13.1 12.7\n 22.6 15.  15.3 10.5 24.  18.5 21.7 19.5 33.2 23.2  5.  19.1 12.7 22.3\n 10.2 13.9 16.3 17.  20.1 29.9 17.2 37.3 45.4 17.8 23.2 29.  22.  18.\n 17.4 34.6 20.1 25.  15.6 24.8 28.2 21.2 21.4 23.8 31.  26.2 17.4 37.9\n 17.5 20.   8.3 23.9  8.4 13.8  7.2 11.7 17.1 21.6 50.  16.1 20.4 20.6\n 21.4 20.6 36.5  8.5 24.8 10.8 21.9 17.3 18.9 36.2 14.9 18.2 33.3 21.8\n 19.7 31.6 24.8 19.4 22.8  7.5 44.8 16.8 18.7 50.  50.  19.5 20.1 50.\n 17.2 20.8 19.3 41.3 20.4 20.5 13.8 16.5 23.9 20.6 31.5 23.3 16.8 14.\n 33.8 36.1 12.8 18.3 18.7 19.1 29.  30.1 50.  50.  22.  11.9 37.6 50.\n 22.7 20.8 23.5 27.9 50.  19.3 23.9 22.6 15.2 21.7 19.2 43.8 20.3 33.2\n 19.9 22.5 32.7 22.  17.1 19.  15.  16.1 25.1 23.7 28.7 37.2 22.6 16.4\n 25.  29.8 22.1 17.4 18.1 30.3 17.5 24.7 12.6 26.5 28.7 13.3 10.4 24.4\n 23.  20.  17.8  7.  11.8 24.4 13.8 19.4 25.2 19.4 19.4 29.1]\n"
    }
   ],
   "source": [
    "(x, y), (x_val, y_val) = keras.datasets.boston_housing.load_data()\n",
    "print(y)"
   ]
  },
  {
   "cell_type": "code",
   "execution_count": 5,
   "metadata": {},
   "outputs": [
    {
     "name": "stdout",
     "output_type": "stream",
     "text": "69.79277358530084\n144.39194712410696\n"
    }
   ],
   "source": [
    "mean = np.mean(x)\n",
    "std = np.std(x)\n",
    "print(mean)\n",
    "print(std)"
   ]
  },
  {
   "cell_type": "code",
   "execution_count": 6,
   "metadata": {},
   "outputs": [
    {
     "data": {
      "text/plain": "(404, 13)"
     },
     "execution_count": 6,
     "metadata": {},
     "output_type": "execute_result"
    }
   ],
   "source": [
    "x = (x - mean) / std\n",
    "x_val = (x_val - mean) / std\n",
    "x.shape"
   ]
  },
  {
   "cell_type": "code",
   "execution_count": 7,
   "metadata": {},
   "outputs": [
    {
     "name": "stdout",
     "output_type": "stream",
     "text": "absolute_error: 2.3473 - root_mean_squared_error: 3.2778 - val_loss: 22.3511 - val_mean_absolute_percentage_error: 15.4739 - val_mean_absolute_error: 3.1510 - val_root_mean_squared_error: 4.7295\nEpoch 626/684\n404/404 [==============================] - 0s 114us/sample - loss: 9.2440 - mean_absolute_percentage_error: 10.7049 - mean_absolute_error: 2.1986 - root_mean_squared_error: 3.0398 - val_loss: 23.4899 - val_mean_absolute_percentage_error: 14.5402 - val_mean_absolute_error: 3.1116 - val_root_mean_squared_error: 4.8475\nEpoch 627/684\n404/404 [==============================] - 0s 114us/sample - loss: 10.6024 - mean_absolute_percentage_error: 11.3822 - mean_absolute_error: 2.4240 - root_mean_squared_error: 3.2557 - val_loss: 23.5821 - val_mean_absolute_percentage_error: 15.3467 - val_mean_absolute_error: 3.2869 - val_root_mean_squared_error: 4.8558\nEpoch 628/684\n404/404 [==============================] - 0s 109us/sample - loss: 11.0186 - mean_absolute_percentage_error: 10.5427 - mean_absolute_error: 2.2657 - root_mean_squared_error: 3.3187 - val_loss: 23.4017 - val_mean_absolute_percentage_error: 14.9417 - val_mean_absolute_error: 3.1517 - val_root_mean_squared_error: 4.8380\nEpoch 629/684\n404/404 [==============================] - 0s 111us/sample - loss: 9.2839 - mean_absolute_percentage_error: 10.9253 - mean_absolute_error: 2.2418 - root_mean_squared_error: 3.0468 - val_loss: 24.5790 - val_mean_absolute_percentage_error: 14.8822 - val_mean_absolute_error: 3.1482 - val_root_mean_squared_error: 4.9583\nEpoch 630/684\n404/404 [==============================] - 0s 109us/sample - loss: 12.5818 - mean_absolute_percentage_error: 11.9790 - mean_absolute_error: 2.5211 - root_mean_squared_error: 3.5467 - val_loss: 25.5169 - val_mean_absolute_percentage_error: 15.8149 - val_mean_absolute_error: 3.4071 - val_root_mean_squared_error: 5.0526\nEpoch 631/684\n404/404 [==============================] - 0s 111us/sample - loss: 14.1154 - mean_absolute_percentage_error: 13.1481 - mean_absolute_error: 2.6693 - root_mean_squared_error: 3.7572 - val_loss: 27.4997 - val_mean_absolute_percentage_error: 15.5728 - val_mean_absolute_error: 3.5828 - val_root_mean_squared_error: 5.2438\nEpoch 632/684\n404/404 [==============================] - 0s 114us/sample - loss: 10.9776 - mean_absolute_percentage_error: 11.0142 - mean_absolute_error: 2.3804 - root_mean_squared_error: 3.3129 - val_loss: 25.4424 - val_mean_absolute_percentage_error: 15.5077 - val_mean_absolute_error: 3.3121 - val_root_mean_squared_error: 5.0445\nEpoch 633/684\n404/404 [==============================] - 0s 109us/sample - loss: 10.0547 - mean_absolute_percentage_error: 11.7941 - mean_absolute_error: 2.4004 - root_mean_squared_error: 3.1706 - val_loss: 26.2540 - val_mean_absolute_percentage_error: 15.6116 - val_mean_absolute_error: 3.5614 - val_root_mean_squared_error: 5.1243\nEpoch 634/684\n404/404 [==============================] - 0s 111us/sample - loss: 10.8371 - mean_absolute_percentage_error: 11.1160 - mean_absolute_error: 2.3606 - root_mean_squared_error: 3.2913 - val_loss: 25.5579 - val_mean_absolute_percentage_error: 16.0117 - val_mean_absolute_error: 3.3292 - val_root_mean_squared_error: 5.0566\nEpoch 635/684\n404/404 [==============================] - 0s 114us/sample - loss: 9.9974 - mean_absolute_percentage_error: 11.5415 - mean_absolute_error: 2.3232 - root_mean_squared_error: 3.1614 - val_loss: 24.3238 - val_mean_absolute_percentage_error: 15.1123 - val_mean_absolute_error: 3.3085 - val_root_mean_squared_error: 4.9320\nEpoch 636/684\n404/404 [==============================] - 0s 111us/sample - loss: 10.5888 - mean_absolute_percentage_error: 10.8213 - mean_absolute_error: 2.2911 - root_mean_squared_error: 3.2535 - val_loss: 22.7096 - val_mean_absolute_percentage_error: 15.1833 - val_mean_absolute_error: 3.1203 - val_root_mean_squared_error: 4.7669\nEpoch 637/684\n404/404 [==============================] - 0s 109us/sample - loss: 8.8256 - mean_absolute_percentage_error: 10.6018 - mean_absolute_error: 2.2265 - root_mean_squared_error: 2.9703 - val_loss: 25.9724 - val_mean_absolute_percentage_error: 15.6032 - val_mean_absolute_error: 3.4332 - val_root_mean_squared_error: 5.0962\nEpoch 638/684\n404/404 [==============================] - 0s 109us/sample - loss: 10.7186 - mean_absolute_percentage_error: 12.1796 - mean_absolute_error: 2.4018 - root_mean_squared_error: 3.2731 - val_loss: 24.8226 - val_mean_absolute_percentage_error: 15.2028 - val_mean_absolute_error: 3.4761 - val_root_mean_squared_error: 4.9828\nEpoch 639/684\n404/404 [==============================] - 0s 129us/sample - loss: 10.6270 - mean_absolute_percentage_error: 11.0348 - mean_absolute_error: 2.3915 - root_mean_squared_error: 3.2593 - val_loss: 24.9133 - val_mean_absolute_percentage_error: 15.2451 - val_mean_absolute_error: 3.3370 - val_root_mean_squared_error: 4.9926\nEpoch 640/684\n404/404 [==============================] - 0s 116us/sample - loss: 10.1735 - mean_absolute_percentage_error: 12.0787 - mean_absolute_error: 2.4085 - root_mean_squared_error: 3.1895 - val_loss: 23.1452 - val_mean_absolute_percentage_error: 14.8933 - val_mean_absolute_error: 3.2295 - val_root_mean_squared_error: 4.8111\nEpoch 641/684\n404/404 [==============================] - 0s 111us/sample - loss: 9.0624 - mean_absolute_percentage_error: 10.4308 - mean_absolute_error: 2.1893 - root_mean_squared_error: 3.0098 - val_loss: 23.7188 - val_mean_absolute_percentage_error: 15.4526 - val_mean_absolute_error: 3.2403 - val_root_mean_squared_error: 4.8711\nEpoch 642/684\n404/404 [==============================] - 0s 106us/sample - loss: 8.9764 - mean_absolute_percentage_error: 10.7607 - mean_absolute_error: 2.2085 - root_mean_squared_error: 2.9960 - val_loss: 26.0475 - val_mean_absolute_percentage_error: 15.6471 - val_mean_absolute_error: 3.5029 - val_root_mean_squared_error: 5.1042\nEpoch 643/684\n404/404 [==============================] - 0s 111us/sample - loss: 10.4535 - mean_absolute_percentage_error: 10.7338 - mean_absolute_error: 2.3013 - root_mean_squared_error: 3.2335 - val_loss: 25.0625 - val_mean_absolute_percentage_error: 15.1905 - val_mean_absolute_error: 3.3961 - val_root_mean_squared_error: 5.0076\nEpoch 644/684\n404/404 [==============================] - 0s 114us/sample - loss: 9.3499 - mean_absolute_percentage_error: 10.7541 - mean_absolute_error: 2.2399 - root_mean_squared_error: 3.0576 - val_loss: 23.2531 - val_mean_absolute_percentage_error: 15.0683 - val_mean_absolute_error: 3.1223 - val_root_mean_squared_error: 4.8224\nEpoch 645/684\n404/404 [==============================] - 0s 114us/sample - loss: 11.4355 - mean_absolute_percentage_error: 11.1909 - mean_absolute_error: 2.4305 - root_mean_squared_error: 3.3818 - val_loss: 25.0533 - val_mean_absolute_percentage_error: 17.0769 - val_mean_absolute_error: 3.4074 - val_root_mean_squared_error: 5.0063\nEpoch 646/684\n404/404 [==============================] - 0s 111us/sample - loss: 11.6912 - mean_absolute_percentage_error: 11.5190 - mean_absolute_error: 2.4326 - root_mean_squared_error: 3.4184 - val_loss: 34.7690 - val_mean_absolute_percentage_error: 20.8497 - val_mean_absolute_error: 4.1398 - val_root_mean_squared_error: 5.8978\nEpoch 647/684\n404/404 [==============================] - 0s 111us/sample - loss: 19.6515 - mean_absolute_percentage_error: 13.8096 - mean_absolute_error: 3.0977 - root_mean_squared_error: 4.4323 - val_loss: 26.3315 - val_mean_absolute_percentage_error: 17.9373 - val_mean_absolute_error: 3.4660 - val_root_mean_squared_error: 5.1313\nEpoch 648/684\n404/404 [==============================] - 0s 119us/sample - loss: 14.6395 - mean_absolute_percentage_error: 13.0135 - mean_absolute_error: 2.7171 - root_mean_squared_error: 3.8258 - val_loss: 25.4525 - val_mean_absolute_percentage_error: 15.4523 - val_mean_absolute_error: 3.3498 - val_root_mean_squared_error: 5.0454\nEpoch 649/684\n404/404 [==============================] - 0s 119us/sample - loss: 10.2480 - mean_absolute_percentage_error: 11.0211 - mean_absolute_error: 2.3324 - root_mean_squared_error: 3.2007 - val_loss: 25.4488 - val_mean_absolute_percentage_error: 15.9398 - val_mean_absolute_error: 3.2926 - val_root_mean_squared_error: 5.0457\nEpoch 650/684\n404/404 [==============================] - 0s 114us/sample - loss: 11.0634 - mean_absolute_percentage_error: 11.3004 - mean_absolute_error: 2.3383 - root_mean_squared_error: 3.3262 - val_loss: 22.4023 - val_mean_absolute_percentage_error: 14.3844 - val_mean_absolute_error: 3.1577 - val_root_mean_squared_error: 4.7349\nEpoch 651/684\n404/404 [==============================] - 0s 109us/sample - loss: 9.5001 - mean_absolute_percentage_error: 10.5034 - mean_absolute_error: 2.2385 - root_mean_squared_error: 3.0818 - val_loss: 23.1195 - val_mean_absolute_percentage_error: 14.5952 - val_mean_absolute_error: 3.1458 - val_root_mean_squared_error: 4.8086\nEpoch 652/684\n404/404 [==============================] - 0s 111us/sample - loss: 9.3618 - mean_absolute_percentage_error: 10.8446 - mean_absolute_error: 2.2388 - root_mean_squared_error: 3.0590 - val_loss: 27.9605 - val_mean_absolute_percentage_error: 16.1063 - val_mean_absolute_error: 3.6635 - val_root_mean_squared_error: 5.2892\nEpoch 653/684\n404/404 [==============================] - 0s 111us/sample - loss: 14.7222 - mean_absolute_percentage_error: 12.5462 - mean_absolute_error: 2.7372 - root_mean_squared_error: 3.8366 - val_loss: 34.3646 - val_mean_absolute_percentage_error: 17.7969 - val_mean_absolute_error: 4.1412 - val_root_mean_squared_error: 5.8625\nEpoch 654/684\n404/404 [==============================] - 0s 116us/sample - loss: 15.4004 - mean_absolute_percentage_error: 13.0967 - mean_absolute_error: 2.7358 - root_mean_squared_error: 3.9241 - val_loss: 24.8578 - val_mean_absolute_percentage_error: 15.2366 - val_mean_absolute_error: 3.4096 - val_root_mean_squared_error: 4.9863\nEpoch 655/684\n404/404 [==============================] - 0s 111us/sample - loss: 10.0770 - mean_absolute_percentage_error: 10.9711 - mean_absolute_error: 2.3124 - root_mean_squared_error: 3.1739 - val_loss: 25.3839 - val_mean_absolute_percentage_error: 15.3197 - val_mean_absolute_error: 3.3781 - val_root_mean_squared_error: 5.0387\nEpoch 656/684\n404/404 [==============================] - 0s 114us/sample - loss: 9.6593 - mean_absolute_percentage_error: 11.1147 - mean_absolute_error: 2.2882 - root_mean_squared_error: 3.1076 - val_loss: 23.8836 - val_mean_absolute_percentage_error: 15.4453 - val_mean_absolute_error: 3.2796 - val_root_mean_squared_error: 4.8863\nEpoch 657/684\n404/404 [==============================] - 0s 111us/sample - loss: 9.3941 - mean_absolute_percentage_error: 10.6740 - mean_absolute_error: 2.2313 - root_mean_squared_error: 3.0652 - val_loss: 29.8248 - val_mean_absolute_percentage_error: 20.0928 - val_mean_absolute_error: 3.8727 - val_root_mean_squared_error: 5.4616\nEpoch 658/684\n404/404 [==============================] - 0s 111us/sample - loss: 16.1501 - mean_absolute_percentage_error: 12.9109 - mean_absolute_error: 2.8571 - root_mean_squared_error: 4.0181 - val_loss: 39.8444 - val_mean_absolute_percentage_error: 24.0439 - val_mean_absolute_error: 4.7035 - val_root_mean_squared_error: 6.3114\nEpoch 659/684\n404/404 [==============================] - 0s 111us/sample - loss: 25.1610 - mean_absolute_percentage_error: 15.3037 - mean_absolute_error: 3.4714 - root_mean_squared_error: 5.0168 - val_loss: 33.2384 - val_mean_absolute_percentage_error: 24.7505 - val_mean_absolute_error: 4.5072 - val_root_mean_squared_error: 5.7651\nEpoch 660/684\n404/404 [==============================] - 0s 109us/sample - loss: 16.4766 - mean_absolute_percentage_error: 15.2995 - mean_absolute_error: 3.1293 - root_mean_squared_error: 4.0593 - val_loss: 24.5784 - val_mean_absolute_percentage_error: 14.8125 - val_mean_absolute_error: 3.2479 - val_root_mean_squared_error: 4.9582\nEpoch 661/684\n404/404 [==============================] - 0s 114us/sample - loss: 10.9851 - mean_absolute_percentage_error: 11.5729 - mean_absolute_error: 2.3472 - root_mean_squared_error: 3.3140 - val_loss: 24.0475 - val_mean_absolute_percentage_error: 16.4366 - val_mean_absolute_error: 3.3794 - val_root_mean_squared_error: 4.9051\nEpoch 662/684\n404/404 [==============================] - 0s 109us/sample - loss: 12.4657 - mean_absolute_percentage_error: 11.7862 - mean_absolute_error: 2.4759 - root_mean_squared_error: 3.5305 - val_loss: 24.7065 - val_mean_absolute_percentage_error: 14.7006 - val_mean_absolute_error: 3.1698 - val_root_mean_squared_error: 4.9709\nEpoch 663/684\n404/404 [==============================] - 0s 106us/sample - loss: 11.7341 - mean_absolute_percentage_error: 11.8851 - mean_absolute_error: 2.4871 - root_mean_squared_error: 3.4254 - val_loss: 25.8434 - val_mean_absolute_percentage_error: 15.2123 - val_mean_absolute_error: 3.2448 - val_root_mean_squared_error: 5.0834\nEpoch 664/684\n404/404 [==============================] - 0s 109us/sample - loss: 12.4240 - mean_absolute_percentage_error: 12.7412 - mean_absolute_error: 2.6649 - root_mean_squared_error: 3.5247 - val_loss: 25.5496 - val_mean_absolute_percentage_error: 15.5543 - val_mean_absolute_error: 3.4644 - val_root_mean_squared_error: 5.0547\nEpoch 665/684\n404/404 [==============================] - 0s 114us/sample - loss: 11.8491 - mean_absolute_percentage_error: 11.1094 - mean_absolute_error: 2.3931 - root_mean_squared_error: 3.4419 - val_loss: 23.6348 - val_mean_absolute_percentage_error: 15.0872 - val_mean_absolute_error: 3.1038 - val_root_mean_squared_error: 4.8628\nEpoch 666/684\n404/404 [==============================] - 0s 106us/sample - loss: 11.3248 - mean_absolute_percentage_error: 11.3473 - mean_absolute_error: 2.3481 - root_mean_squared_error: 3.3650 - val_loss: 23.4525 - val_mean_absolute_percentage_error: 14.4116 - val_mean_absolute_error: 3.1549 - val_root_mean_squared_error: 4.8425\nEpoch 667/684\n404/404 [==============================] - 0s 111us/sample - loss: 9.1716 - mean_absolute_percentage_error: 10.5097 - mean_absolute_error: 2.1617 - root_mean_squared_error: 3.0286 - val_loss: 21.4020 - val_mean_absolute_percentage_error: 14.8648 - val_mean_absolute_error: 3.0739 - val_root_mean_squared_error: 4.6269\nEpoch 668/684\n404/404 [==============================] - 0s 111us/sample - loss: 8.6806 - mean_absolute_percentage_error: 10.2771 - mean_absolute_error: 2.1665 - root_mean_squared_error: 2.9456 - val_loss: 22.0999 - val_mean_absolute_percentage_error: 15.4855 - val_mean_absolute_error: 3.0705 - val_root_mean_squared_error: 4.7008\nEpoch 669/684\n404/404 [==============================] - 0s 111us/sample - loss: 9.0325 - mean_absolute_percentage_error: 10.5434 - mean_absolute_error: 2.1837 - root_mean_squared_error: 3.0055 - val_loss: 22.4813 - val_mean_absolute_percentage_error: 15.8823 - val_mean_absolute_error: 3.1737 - val_root_mean_squared_error: 4.7419\nEpoch 670/684\n404/404 [==============================] - 0s 111us/sample - loss: 10.4622 - mean_absolute_percentage_error: 10.6961 - mean_absolute_error: 2.2736 - root_mean_squared_error: 3.2341 - val_loss: 23.6023 - val_mean_absolute_percentage_error: 16.2344 - val_mean_absolute_error: 3.2366 - val_root_mean_squared_error: 4.8599\nEpoch 671/684\n404/404 [==============================] - 0s 111us/sample - loss: 9.1403 - mean_absolute_percentage_error: 10.3828 - mean_absolute_error: 2.1806 - root_mean_squared_error: 3.0231 - val_loss: 22.9810 - val_mean_absolute_percentage_error: 15.2309 - val_mean_absolute_error: 3.1271 - val_root_mean_squared_error: 4.7932\nEpoch 672/684\n404/404 [==============================] - 0s 111us/sample - loss: 8.5603 - mean_absolute_percentage_error: 10.0788 - mean_absolute_error: 2.0958 - root_mean_squared_error: 2.9260 - val_loss: 22.5794 - val_mean_absolute_percentage_error: 15.7597 - val_mean_absolute_error: 3.1528 - val_root_mean_squared_error: 4.7530\nEpoch 673/684\n404/404 [==============================] - 0s 109us/sample - loss: 11.8900 - mean_absolute_percentage_error: 11.1518 - mean_absolute_error: 2.3994 - root_mean_squared_error: 3.4481 - val_loss: 23.4718 - val_mean_absolute_percentage_error: 16.1598 - val_mean_absolute_error: 3.1961 - val_root_mean_squared_error: 4.8464\nEpoch 674/684\n404/404 [==============================] - 0s 114us/sample - loss: 11.7782 - mean_absolute_percentage_error: 12.1844 - mean_absolute_error: 2.5744 - root_mean_squared_error: 3.4316 - val_loss: 22.3520 - val_mean_absolute_percentage_error: 14.7240 - val_mean_absolute_error: 3.1462 - val_root_mean_squared_error: 4.7274\nEpoch 675/684\n404/404 [==============================] - 0s 111us/sample - loss: 10.2451 - mean_absolute_percentage_error: 11.2377 - mean_absolute_error: 2.3368 - root_mean_squared_error: 3.2004 - val_loss: 21.1942 - val_mean_absolute_percentage_error: 15.0693 - val_mean_absolute_error: 3.1879 - val_root_mean_squared_error: 4.6045\nEpoch 676/684\n404/404 [==============================] - 0s 114us/sample - loss: 9.4559 - mean_absolute_percentage_error: 10.2395 - mean_absolute_error: 2.1547 - root_mean_squared_error: 3.0748 - val_loss: 22.1094 - val_mean_absolute_percentage_error: 14.5535 - val_mean_absolute_error: 3.1003 - val_root_mean_squared_error: 4.7025\nEpoch 677/684\n404/404 [==============================] - 0s 111us/sample - loss: 8.9852 - mean_absolute_percentage_error: 11.0366 - mean_absolute_error: 2.2646 - root_mean_squared_error: 2.9970 - val_loss: 22.7169 - val_mean_absolute_percentage_error: 14.7007 - val_mean_absolute_error: 3.1496 - val_root_mean_squared_error: 4.7677\nEpoch 678/684\n404/404 [==============================] - 0s 111us/sample - loss: 8.9127 - mean_absolute_percentage_error: 10.2047 - mean_absolute_error: 2.1234 - root_mean_squared_error: 2.9848 - val_loss: 23.5579 - val_mean_absolute_percentage_error: 14.8134 - val_mean_absolute_error: 3.2428 - val_root_mean_squared_error: 4.8537\nEpoch 679/684\n404/404 [==============================] - 0s 111us/sample - loss: 10.3428 - mean_absolute_percentage_error: 10.7082 - mean_absolute_error: 2.2586 - root_mean_squared_error: 3.2159 - val_loss: 26.7273 - val_mean_absolute_percentage_error: 15.6662 - val_mean_absolute_error: 3.5659 - val_root_mean_squared_error: 5.1714\nEpoch 680/684\n404/404 [==============================] - 0s 111us/sample - loss: 10.8009 - mean_absolute_percentage_error: 11.2444 - mean_absolute_error: 2.3580 - root_mean_squared_error: 3.2863 - val_loss: 21.8529 - val_mean_absolute_percentage_error: 14.5776 - val_mean_absolute_error: 3.0683 - val_root_mean_squared_error: 4.6753\nEpoch 681/684\n404/404 [==============================] - 0s 114us/sample - loss: 9.1149 - mean_absolute_percentage_error: 10.3053 - mean_absolute_error: 2.2124 - root_mean_squared_error: 3.0188 - val_loss: 22.5502 - val_mean_absolute_percentage_error: 16.2171 - val_mean_absolute_error: 3.1318 - val_root_mean_squared_error: 4.7495\nEpoch 682/684\n404/404 [==============================] - 0s 109us/sample - loss: 9.3064 - mean_absolute_percentage_error: 11.4143 - mean_absolute_error: 2.2932 - root_mean_squared_error: 3.0503 - val_loss: 21.1379 - val_mean_absolute_percentage_error: 14.9641 - val_mean_absolute_error: 3.1090 - val_root_mean_squared_error: 4.5991\nEpoch 683/684\n404/404 [==============================] - 0s 114us/sample - loss: 8.7780 - mean_absolute_percentage_error: 10.3897 - mean_absolute_error: 2.1595 - root_mean_squared_error: 2.9623 - val_loss: 25.6875 - val_mean_absolute_percentage_error: 15.9784 - val_mean_absolute_error: 3.4320 - val_root_mean_squared_error: 5.0690\nEpoch 684/684\n404/404 [==============================] - 0s 114us/sample - loss: 8.7044 - mean_absolute_percentage_error: 10.4760 - mean_absolute_error: 2.1441 - root_mean_squared_error: 2.9498 - val_loss: 22.7843 - val_mean_absolute_percentage_error: 14.5805 - val_mean_absolute_error: 3.1617 - val_root_mean_squared_error: 4.7739\n102/102 [==============================] - 0s 118us/sample - loss: 22.7819 - mean_absolute_percentage_error: 14.5805 - mean_absolute_error: 3.1617 - root_mean_squared_error: 4.7739\n"
    }
   ],
   "source": [
    "train.random_search(build_fn=build_model, x=x, y=y, x_val=x_val, y_val=y_val, n=10, hp_rv=hp_rv, log_dir=log_dir)"
   ]
  },
  {
   "cell_type": "code",
   "execution_count": 9,
   "metadata": {},
   "outputs": [
    {
     "name": "stdout",
     "output_type": "stream",
     "text": "WARNING:tensorflow:LossScale of LossScaleOptimizer passed to compile (DynamicLossScale(current_loss_scale=32768.0, num_good_steps=0, initial_loss_scale=32768.0, increment_period=2000, multiplier=2.0)) is not the same as the dtype policy's loss scale (DynamicLossScale(current_loss_scale=32.0, num_good_steps=854, initial_loss_scale=32768.0, increment_period=2000, multiplier=2.0)). Because the dtype policy has a loss scale, you should pass an optimizer that is not wrapped with a LossScaleOptimizer,\n"
    }
   ],
   "source": [
    "model = tf.keras.models.load_model(str(log_dir / 'best_model.h5'))"
   ]
  },
  {
   "cell_type": "code",
   "execution_count": 23,
   "metadata": {},
   "outputs": [
    {
     "name": "stdout",
     "output_type": "stream",
     "text": "(102,)\n"
    }
   ],
   "source": [
    "y_pred = model.predict(x_val)\n",
    "print(y_pred[:, 0].shape)"
   ]
  },
  {
   "cell_type": "code",
   "execution_count": 16,
   "metadata": {},
   "outputs": [],
   "source": [
    "import altair as alt\n",
    "from vega_datasets import data\n",
    "\n",
    "import pandas as pd"
   ]
  },
  {
   "cell_type": "code",
   "execution_count": 35,
   "metadata": {},
   "outputs": [
    {
     "name": "stdout",
     "output_type": "stream",
     "text": "Price      Type\n0    10.351562  Estimate\n1    19.125000  Estimate\n2    20.953125  Estimate\n3    36.812500  Estimate\n4    24.265625  Estimate\n..         ...       ...\n199  21.900000    Actual\n200  24.100000    Actual\n201  50.000000    Actual\n202  26.700000    Actual\n203  25.000000    Actual\n\n[204 rows x 2 columns]\n"
    }
   ],
   "source": [
    "chart_data = pd.DataFrame({'Price': np.concatenate((y_pred[:, 0], y_val)), 'Type': ['Estimate']*y_pred.shape[0] + ['Actual']*y_pred.shape[0]})\n",
    "print(chart_data)"
   ]
  },
  {
   "cell_type": "code",
   "execution_count": 40,
   "metadata": {},
   "outputs": [
    {
     "data": {
      "text/html": "\n<div id=\"altair-viz-5\"></div>\n<script type=\"text/javascript\">\n  (function(spec, embedOpt){\n    const outputDiv = document.getElementById(\"altair-viz-5\");\n    const paths = {\n      \"vega\": \"https://cdn.jsdelivr.net/npm//vega@5?noext\",\n      \"vega-lib\": \"https://cdn.jsdelivr.net/npm//vega-lib?noext\",\n      \"vega-lite\": \"https://cdn.jsdelivr.net/npm//vega-lite@4.0.0?noext\",\n      \"vega-embed\": \"https://cdn.jsdelivr.net/npm//vega-embed@6?noext\",\n    };\n\n    function loadScript(lib) {\n      return new Promise(function(resolve, reject) {\n        var s = document.createElement('script');\n        s.src = paths[lib];\n        s.async = true;\n        s.onload = () => resolve(paths[lib]);\n        s.onerror = () => reject(`Error loading script: ${paths[lib]}`);\n        document.getElementsByTagName(\"head\")[0].appendChild(s);\n      });\n    }\n\n    function showError(err) {\n      outputDiv.innerHTML = `<div class=\"error\" style=\"color:red;\">${err}</div>`;\n      throw err;\n    }\n\n    function displayChart(vegaEmbed) {\n      vegaEmbed(outputDiv, spec, embedOpt)\n        .catch(err => showError(`Javascript Error: ${err.message}<br>This usually means there's a typo in your chart specification. See the javascript console for the full traceback.`));\n    }\n\n    if(typeof define === \"function\" && define.amd) {\n      requirejs.config({paths});\n      require([\"vega-embed\"], displayChart, err => showError(`Error loading script: ${err.message}`));\n    } else if (typeof vegaEmbed === \"function\") {\n      displayChart(vegaEmbed);\n    } else {\n      loadScript(\"vega\")\n        .then(() => loadScript(\"vega-lite\"))\n        .then(() => loadScript(\"vega-embed\"))\n        .catch(showError)\n        .then(() => displayChart(vegaEmbed));\n    }\n  })({\"config\": {\"view\": {\"continuousWidth\": 400, \"continuousHeight\": 300}}, \"data\": {\"name\": \"data-2ec8efc7d34d35bbaed254d7a40e5963\"}, \"mark\": \"bar\", \"encoding\": {\"color\": {\"type\": \"nominal\", \"field\": \"Type\"}, \"x\": {\"type\": \"quantitative\", \"bin\": true, \"field\": \"Price\"}, \"y\": {\"type\": \"quantitative\", \"aggregate\": \"count\"}}, \"$schema\": \"https://vega.github.io/schema/vega-lite/v4.0.0.json\", \"datasets\": {\"data-2ec8efc7d34d35bbaed254d7a40e5963\": [{\"Price\": 10.3515625, \"Type\": \"Estimate\"}, {\"Price\": 19.125, \"Type\": \"Estimate\"}, {\"Price\": 20.953125, \"Type\": \"Estimate\"}, {\"Price\": 36.8125, \"Type\": \"Estimate\"}, {\"Price\": 24.265625, \"Type\": \"Estimate\"}, {\"Price\": 19.734375, \"Type\": \"Estimate\"}, {\"Price\": 28.015625, \"Type\": \"Estimate\"}, {\"Price\": 23.546875, \"Type\": \"Estimate\"}, {\"Price\": 20.625, \"Type\": \"Estimate\"}, {\"Price\": 19.078125, \"Type\": \"Estimate\"}, {\"Price\": 15.8984375, \"Type\": \"Estimate\"}, {\"Price\": 17.640625, \"Type\": \"Estimate\"}, {\"Price\": 16.546875, \"Type\": \"Estimate\"}, {\"Price\": 39.0625, \"Type\": \"Estimate\"}, {\"Price\": 18.9375, \"Type\": \"Estimate\"}, {\"Price\": 21.921875, \"Type\": \"Estimate\"}, {\"Price\": 23.78125, \"Type\": \"Estimate\"}, {\"Price\": 21.53125, \"Type\": \"Estimate\"}, {\"Price\": 18.28125, \"Type\": \"Estimate\"}, {\"Price\": 19.875, \"Type\": \"Estimate\"}, {\"Price\": 12.0625, \"Type\": \"Estimate\"}, {\"Price\": 12.21875, \"Type\": \"Estimate\"}, {\"Price\": 21.375, \"Type\": \"Estimate\"}, {\"Price\": 18.375, \"Type\": \"Estimate\"}, {\"Price\": 21.796875, \"Type\": \"Estimate\"}, {\"Price\": 20.875, \"Type\": \"Estimate\"}, {\"Price\": 25.453125, \"Type\": \"Estimate\"}, {\"Price\": 42.53125, \"Type\": \"Estimate\"}, {\"Price\": 12.3984375, \"Type\": \"Estimate\"}, {\"Price\": 22.296875, \"Type\": \"Estimate\"}, {\"Price\": 20.1875, \"Type\": \"Estimate\"}, {\"Price\": 13.453125, \"Type\": \"Estimate\"}, {\"Price\": 30.453125, \"Type\": \"Estimate\"}, {\"Price\": 22.9375, \"Type\": \"Estimate\"}, {\"Price\": 18.890625, \"Type\": \"Estimate\"}, {\"Price\": 9.59375, \"Type\": \"Estimate\"}, {\"Price\": 17.015625, \"Type\": \"Estimate\"}, {\"Price\": 19.4375, \"Type\": \"Estimate\"}, {\"Price\": 17.125, \"Type\": \"Estimate\"}, {\"Price\": 28.75, \"Type\": \"Estimate\"}, {\"Price\": 31.0625, \"Type\": \"Estimate\"}, {\"Price\": 30.984375, \"Type\": \"Estimate\"}, {\"Price\": 14.234375, \"Type\": \"Estimate\"}, {\"Price\": 31.15625, \"Type\": \"Estimate\"}, {\"Price\": 37.875, \"Type\": \"Estimate\"}, {\"Price\": 29.953125, \"Type\": \"Estimate\"}, {\"Price\": 32.28125, \"Type\": \"Estimate\"}, {\"Price\": 20.3125, \"Type\": \"Estimate\"}, {\"Price\": 21.75, \"Type\": \"Estimate\"}, {\"Price\": 22.71875, \"Type\": \"Estimate\"}, {\"Price\": 33.96875, \"Type\": \"Estimate\"}, {\"Price\": 21.625, \"Type\": \"Estimate\"}, {\"Price\": 10.9609375, \"Type\": \"Estimate\"}, {\"Price\": 16.078125, \"Type\": \"Estimate\"}, {\"Price\": 29.328125, \"Type\": \"Estimate\"}, {\"Price\": 28.65625, \"Type\": \"Estimate\"}, {\"Price\": 12.3515625, \"Type\": \"Estimate\"}, {\"Price\": 37.71875, \"Type\": \"Estimate\"}, {\"Price\": 32.5625, \"Type\": \"Estimate\"}, {\"Price\": 26.546875, \"Type\": \"Estimate\"}, {\"Price\": 20.71875, \"Type\": \"Estimate\"}, {\"Price\": 15.046875, \"Type\": \"Estimate\"}, {\"Price\": 16.578125, \"Type\": \"Estimate\"}, {\"Price\": 19.984375, \"Type\": \"Estimate\"}, {\"Price\": 25.640625, \"Type\": \"Estimate\"}, {\"Price\": 25.15625, \"Type\": \"Estimate\"}, {\"Price\": 14.6796875, \"Type\": \"Estimate\"}, {\"Price\": 25.0, \"Type\": \"Estimate\"}, {\"Price\": 10.5390625, \"Type\": \"Estimate\"}, {\"Price\": 9.1484375, \"Type\": \"Estimate\"}, {\"Price\": 18.71875, \"Type\": \"Estimate\"}, {\"Price\": 26.90625, \"Type\": \"Estimate\"}, {\"Price\": 18.765625, \"Type\": \"Estimate\"}, {\"Price\": 12.28125, \"Type\": \"Estimate\"}, {\"Price\": 24.09375, \"Type\": \"Estimate\"}, {\"Price\": 20.75, \"Type\": \"Estimate\"}, {\"Price\": 21.765625, \"Type\": \"Estimate\"}, {\"Price\": 22.921875, \"Type\": \"Estimate\"}, {\"Price\": 38.59375, \"Type\": \"Estimate\"}, {\"Price\": 9.5859375, \"Type\": \"Estimate\"}, {\"Price\": 22.921875, \"Type\": \"Estimate\"}, {\"Price\": 42.03125, \"Type\": \"Estimate\"}, {\"Price\": 20.0, \"Type\": \"Estimate\"}, {\"Price\": 14.0390625, \"Type\": \"Estimate\"}, {\"Price\": 20.8125, \"Type\": \"Estimate\"}, {\"Price\": 17.328125, \"Type\": \"Estimate\"}, {\"Price\": 18.109375, \"Type\": \"Estimate\"}, {\"Price\": 19.578125, \"Type\": \"Estimate\"}, {\"Price\": 20.953125, \"Type\": \"Estimate\"}, {\"Price\": 26.546875, \"Type\": \"Estimate\"}, {\"Price\": 20.25, \"Type\": \"Estimate\"}, {\"Price\": 21.9375, \"Type\": \"Estimate\"}, {\"Price\": 21.5625, \"Type\": \"Estimate\"}, {\"Price\": 27.515625, \"Type\": \"Estimate\"}, {\"Price\": 37.09375, \"Type\": \"Estimate\"}, {\"Price\": 19.828125, \"Type\": \"Estimate\"}, {\"Price\": 39.40625, \"Type\": \"Estimate\"}, {\"Price\": 41.46875, \"Type\": \"Estimate\"}, {\"Price\": 23.109375, \"Type\": \"Estimate\"}, {\"Price\": 46.28125, \"Type\": \"Estimate\"}, {\"Price\": 25.640625, \"Type\": \"Estimate\"}, {\"Price\": 23.171875, \"Type\": \"Estimate\"}, {\"Price\": 7.2, \"Type\": \"Actual\"}, {\"Price\": 18.8, \"Type\": \"Actual\"}, {\"Price\": 19.0, \"Type\": \"Actual\"}, {\"Price\": 27.0, \"Type\": \"Actual\"}, {\"Price\": 22.2, \"Type\": \"Actual\"}, {\"Price\": 24.5, \"Type\": \"Actual\"}, {\"Price\": 31.2, \"Type\": \"Actual\"}, {\"Price\": 22.9, \"Type\": \"Actual\"}, {\"Price\": 20.5, \"Type\": \"Actual\"}, {\"Price\": 23.2, \"Type\": \"Actual\"}, {\"Price\": 18.6, \"Type\": \"Actual\"}, {\"Price\": 14.5, \"Type\": \"Actual\"}, {\"Price\": 17.8, \"Type\": \"Actual\"}, {\"Price\": 50.0, \"Type\": \"Actual\"}, {\"Price\": 20.8, \"Type\": \"Actual\"}, {\"Price\": 24.3, \"Type\": \"Actual\"}, {\"Price\": 24.2, \"Type\": \"Actual\"}, {\"Price\": 19.8, \"Type\": \"Actual\"}, {\"Price\": 19.1, \"Type\": \"Actual\"}, {\"Price\": 22.7, \"Type\": \"Actual\"}, {\"Price\": 12.0, \"Type\": \"Actual\"}, {\"Price\": 10.2, \"Type\": \"Actual\"}, {\"Price\": 20.0, \"Type\": \"Actual\"}, {\"Price\": 18.5, \"Type\": \"Actual\"}, {\"Price\": 20.9, \"Type\": \"Actual\"}, {\"Price\": 23.0, \"Type\": \"Actual\"}, {\"Price\": 27.5, \"Type\": \"Actual\"}, {\"Price\": 30.1, \"Type\": \"Actual\"}, {\"Price\": 9.5, \"Type\": \"Actual\"}, {\"Price\": 22.0, \"Type\": \"Actual\"}, {\"Price\": 21.2, \"Type\": \"Actual\"}, {\"Price\": 14.1, \"Type\": \"Actual\"}, {\"Price\": 33.1, \"Type\": \"Actual\"}, {\"Price\": 23.4, \"Type\": \"Actual\"}, {\"Price\": 20.1, \"Type\": \"Actual\"}, {\"Price\": 7.4, \"Type\": \"Actual\"}, {\"Price\": 15.4, \"Type\": \"Actual\"}, {\"Price\": 23.8, \"Type\": \"Actual\"}, {\"Price\": 20.1, \"Type\": \"Actual\"}, {\"Price\": 24.5, \"Type\": \"Actual\"}, {\"Price\": 33.0, \"Type\": \"Actual\"}, {\"Price\": 28.4, \"Type\": \"Actual\"}, {\"Price\": 14.1, \"Type\": \"Actual\"}, {\"Price\": 46.7, \"Type\": \"Actual\"}, {\"Price\": 32.5, \"Type\": \"Actual\"}, {\"Price\": 29.6, \"Type\": \"Actual\"}, {\"Price\": 28.4, \"Type\": \"Actual\"}, {\"Price\": 19.8, \"Type\": \"Actual\"}, {\"Price\": 20.2, \"Type\": \"Actual\"}, {\"Price\": 25.0, \"Type\": \"Actual\"}, {\"Price\": 35.4, \"Type\": \"Actual\"}, {\"Price\": 20.3, \"Type\": \"Actual\"}, {\"Price\": 9.7, \"Type\": \"Actual\"}, {\"Price\": 14.5, \"Type\": \"Actual\"}, {\"Price\": 34.9, \"Type\": \"Actual\"}, {\"Price\": 26.6, \"Type\": \"Actual\"}, {\"Price\": 7.2, \"Type\": \"Actual\"}, {\"Price\": 50.0, \"Type\": \"Actual\"}, {\"Price\": 32.4, \"Type\": \"Actual\"}, {\"Price\": 21.6, \"Type\": \"Actual\"}, {\"Price\": 29.8, \"Type\": \"Actual\"}, {\"Price\": 13.1, \"Type\": \"Actual\"}, {\"Price\": 27.5, \"Type\": \"Actual\"}, {\"Price\": 21.2, \"Type\": \"Actual\"}, {\"Price\": 23.1, \"Type\": \"Actual\"}, {\"Price\": 21.9, \"Type\": \"Actual\"}, {\"Price\": 13.0, \"Type\": \"Actual\"}, {\"Price\": 23.2, \"Type\": \"Actual\"}, {\"Price\": 8.1, \"Type\": \"Actual\"}, {\"Price\": 5.6, \"Type\": \"Actual\"}, {\"Price\": 21.7, \"Type\": \"Actual\"}, {\"Price\": 29.6, \"Type\": \"Actual\"}, {\"Price\": 19.6, \"Type\": \"Actual\"}, {\"Price\": 7.0, \"Type\": \"Actual\"}, {\"Price\": 26.4, \"Type\": \"Actual\"}, {\"Price\": 18.9, \"Type\": \"Actual\"}, {\"Price\": 20.9, \"Type\": \"Actual\"}, {\"Price\": 28.1, \"Type\": \"Actual\"}, {\"Price\": 35.4, \"Type\": \"Actual\"}, {\"Price\": 10.2, \"Type\": \"Actual\"}, {\"Price\": 24.3, \"Type\": \"Actual\"}, {\"Price\": 43.1, \"Type\": \"Actual\"}, {\"Price\": 17.6, \"Type\": \"Actual\"}, {\"Price\": 15.4, \"Type\": \"Actual\"}, {\"Price\": 16.2, \"Type\": \"Actual\"}, {\"Price\": 27.1, \"Type\": \"Actual\"}, {\"Price\": 21.4, \"Type\": \"Actual\"}, {\"Price\": 21.5, \"Type\": \"Actual\"}, {\"Price\": 22.4, \"Type\": \"Actual\"}, {\"Price\": 25.0, \"Type\": \"Actual\"}, {\"Price\": 16.6, \"Type\": \"Actual\"}, {\"Price\": 18.6, \"Type\": \"Actual\"}, {\"Price\": 22.0, \"Type\": \"Actual\"}, {\"Price\": 42.8, \"Type\": \"Actual\"}, {\"Price\": 35.1, \"Type\": \"Actual\"}, {\"Price\": 21.5, \"Type\": \"Actual\"}, {\"Price\": 36.0, \"Type\": \"Actual\"}, {\"Price\": 21.9, \"Type\": \"Actual\"}, {\"Price\": 24.1, \"Type\": \"Actual\"}, {\"Price\": 50.0, \"Type\": \"Actual\"}, {\"Price\": 26.7, \"Type\": \"Actual\"}, {\"Price\": 25.0, \"Type\": \"Actual\"}]}}, {\"mode\": \"vega-lite\"});\n</script>",
      "text/plain": "alt.Chart(...)"
     },
     "execution_count": 40,
     "metadata": {},
     "output_type": "execute_result"
    }
   ],
   "source": [
    "alt.Chart(chart_data).mark_bar().encode(alt.X(\"Price:Q\", bin=True), y=\"count()\", color=\"Type\")"
   ]
  },
  {
   "cell_type": "code",
   "execution_count": 41,
   "metadata": {},
   "outputs": [],
   "source": [
    "difference = y_pred[:, 0] - y_val"
   ]
  },
  {
   "cell_type": "code",
   "execution_count": 42,
   "metadata": {},
   "outputs": [
    {
     "name": "stdout",
     "output_type": "stream",
     "text": "Actual - Expected\n0             3.151562\n1             0.325000\n2             1.953125\n3             9.812500\n4             2.065625\n..                 ...\n97           19.568750\n98           -0.990625\n99           -3.718750\n100          -1.059375\n101          -1.828125\n\n[102 rows x 1 columns]\n"
    }
   ],
   "source": [
    "chart_data = pd.DataFrame({'Actual - Expected': difference})\n",
    "print(chart_data)"
   ]
  },
  {
   "cell_type": "code",
   "execution_count": 45,
   "metadata": {},
   "outputs": [
    {
     "data": {
      "text/html": "\n<div id=\"altair-viz-8\"></div>\n<script type=\"text/javascript\">\n  (function(spec, embedOpt){\n    const outputDiv = document.getElementById(\"altair-viz-8\");\n    const paths = {\n      \"vega\": \"https://cdn.jsdelivr.net/npm//vega@5?noext\",\n      \"vega-lib\": \"https://cdn.jsdelivr.net/npm//vega-lib?noext\",\n      \"vega-lite\": \"https://cdn.jsdelivr.net/npm//vega-lite@4.0.0?noext\",\n      \"vega-embed\": \"https://cdn.jsdelivr.net/npm//vega-embed@6?noext\",\n    };\n\n    function loadScript(lib) {\n      return new Promise(function(resolve, reject) {\n        var s = document.createElement('script');\n        s.src = paths[lib];\n        s.async = true;\n        s.onload = () => resolve(paths[lib]);\n        s.onerror = () => reject(`Error loading script: ${paths[lib]}`);\n        document.getElementsByTagName(\"head\")[0].appendChild(s);\n      });\n    }\n\n    function showError(err) {\n      outputDiv.innerHTML = `<div class=\"error\" style=\"color:red;\">${err}</div>`;\n      throw err;\n    }\n\n    function displayChart(vegaEmbed) {\n      vegaEmbed(outputDiv, spec, embedOpt)\n        .catch(err => showError(`Javascript Error: ${err.message}<br>This usually means there's a typo in your chart specification. See the javascript console for the full traceback.`));\n    }\n\n    if(typeof define === \"function\" && define.amd) {\n      requirejs.config({paths});\n      require([\"vega-embed\"], displayChart, err => showError(`Error loading script: ${err.message}`));\n    } else if (typeof vegaEmbed === \"function\") {\n      displayChart(vegaEmbed);\n    } else {\n      loadScript(\"vega\")\n        .then(() => loadScript(\"vega-lite\"))\n        .then(() => loadScript(\"vega-embed\"))\n        .catch(showError)\n        .then(() => displayChart(vegaEmbed));\n    }\n  })({\"config\": {\"view\": {\"continuousWidth\": 400, \"continuousHeight\": 300}}, \"data\": {\"name\": \"data-b1cce8a4471ffac0b61cc0f4e38951f7\"}, \"mark\": \"bar\", \"encoding\": {\"x\": {\"type\": \"quantitative\", \"bin\": {\"step\": 2}, \"field\": \"Actual - Expected\"}, \"y\": {\"type\": \"quantitative\", \"aggregate\": \"count\"}}, \"$schema\": \"https://vega.github.io/schema/vega-lite/v4.0.0.json\", \"datasets\": {\"data-b1cce8a4471ffac0b61cc0f4e38951f7\": [{\"Actual - Expected\": 3.1515625}, {\"Actual - Expected\": 0.3249999999999993}, {\"Actual - Expected\": 1.953125}, {\"Actual - Expected\": 9.8125}, {\"Actual - Expected\": 2.0656250000000007}, {\"Actual - Expected\": -4.765625}, {\"Actual - Expected\": -3.1843749999999993}, {\"Actual - Expected\": 0.6468750000000014}, {\"Actual - Expected\": 0.125}, {\"Actual - Expected\": -4.121874999999999}, {\"Actual - Expected\": -2.7015625000000014}, {\"Actual - Expected\": 3.140625}, {\"Actual - Expected\": -1.2531250000000007}, {\"Actual - Expected\": -10.9375}, {\"Actual - Expected\": -1.8625000000000007}, {\"Actual - Expected\": -2.3781250000000007}, {\"Actual - Expected\": -0.4187499999999993}, {\"Actual - Expected\": 1.7312499999999993}, {\"Actual - Expected\": -0.8187500000000014}, {\"Actual - Expected\": -2.8249999999999993}, {\"Actual - Expected\": 0.0625}, {\"Actual - Expected\": 2.0187500000000007}, {\"Actual - Expected\": 1.375}, {\"Actual - Expected\": -0.125}, {\"Actual - Expected\": 0.8968750000000014}, {\"Actual - Expected\": -2.125}, {\"Actual - Expected\": -2.046875}, {\"Actual - Expected\": 12.431249999999999}, {\"Actual - Expected\": 2.8984375}, {\"Actual - Expected\": 0.296875}, {\"Actual - Expected\": -1.0124999999999993}, {\"Actual - Expected\": -0.6468749999999996}, {\"Actual - Expected\": -2.6468750000000014}, {\"Actual - Expected\": -0.4624999999999986}, {\"Actual - Expected\": -1.2093750000000014}, {\"Actual - Expected\": 2.1937499999999996}, {\"Actual - Expected\": 1.6156249999999996}, {\"Actual - Expected\": -4.362500000000001}, {\"Actual - Expected\": -2.9750000000000014}, {\"Actual - Expected\": 4.25}, {\"Actual - Expected\": -1.9375}, {\"Actual - Expected\": 2.5843750000000014}, {\"Actual - Expected\": 0.13437500000000036}, {\"Actual - Expected\": -15.543750000000003}, {\"Actual - Expected\": 5.375}, {\"Actual - Expected\": 0.3531249999999986}, {\"Actual - Expected\": 3.8812500000000014}, {\"Actual - Expected\": 0.5124999999999993}, {\"Actual - Expected\": 1.5500000000000007}, {\"Actual - Expected\": -2.28125}, {\"Actual - Expected\": -1.4312499999999986}, {\"Actual - Expected\": 1.3249999999999993}, {\"Actual - Expected\": 1.2609375000000007}, {\"Actual - Expected\": 1.578125}, {\"Actual - Expected\": -5.571874999999999}, {\"Actual - Expected\": 2.0562499999999986}, {\"Actual - Expected\": 5.1515625}, {\"Actual - Expected\": -12.28125}, {\"Actual - Expected\": 0.16250000000000142}, {\"Actual - Expected\": 4.946874999999999}, {\"Actual - Expected\": -9.08125}, {\"Actual - Expected\": 1.9468750000000004}, {\"Actual - Expected\": -10.921875}, {\"Actual - Expected\": -1.2156249999999993}, {\"Actual - Expected\": 2.5406249999999986}, {\"Actual - Expected\": 3.2562500000000014}, {\"Actual - Expected\": 1.6796875}, {\"Actual - Expected\": 1.8000000000000007}, {\"Actual - Expected\": 2.4390625000000004}, {\"Actual - Expected\": 3.5484375000000004}, {\"Actual - Expected\": -2.9812499999999993}, {\"Actual - Expected\": -2.6937500000000014}, {\"Actual - Expected\": -0.8343750000000014}, {\"Actual - Expected\": 5.28125}, {\"Actual - Expected\": -2.3062499999999986}, {\"Actual - Expected\": 1.8500000000000014}, {\"Actual - Expected\": 0.8656250000000014}, {\"Actual - Expected\": -5.178125000000001}, {\"Actual - Expected\": 3.1937500000000014}, {\"Actual - Expected\": -0.6140624999999993}, {\"Actual - Expected\": -1.3781250000000007}, {\"Actual - Expected\": -1.0687500000000014}, {\"Actual - Expected\": 2.3999999999999986}, {\"Actual - Expected\": -1.3609375000000004}, {\"Actual - Expected\": 4.612500000000001}, {\"Actual - Expected\": -9.771875000000001}, {\"Actual - Expected\": -3.2906249999999986}, {\"Actual - Expected\": -1.921875}, {\"Actual - Expected\": -1.4468749999999986}, {\"Actual - Expected\": 1.546875}, {\"Actual - Expected\": 3.6499999999999986}, {\"Actual - Expected\": 3.3374999999999986}, {\"Actual - Expected\": -0.4375}, {\"Actual - Expected\": -15.284374999999997}, {\"Actual - Expected\": 1.9937499999999986}, {\"Actual - Expected\": -1.671875}, {\"Actual - Expected\": 3.40625}, {\"Actual - Expected\": 19.56875}, {\"Actual - Expected\": -0.9906250000000014}, {\"Actual - Expected\": -3.71875}, {\"Actual - Expected\": -1.0593749999999993}, {\"Actual - Expected\": -1.828125}]}}, {\"mode\": \"vega-lite\"});\n</script>",
      "text/plain": "alt.Chart(...)"
     },
     "execution_count": 45,
     "metadata": {},
     "output_type": "execute_result"
    }
   ],
   "source": [
    "alt.Chart(chart_data).mark_bar().encode(alt.X(\"Actual - Expected:Q\", bin=alt.Bin(step=2)), y=\"count()\")"
   ]
  },
  {
   "cell_type": "code",
   "execution_count": null,
   "metadata": {},
   "outputs": [],
   "source": []
  }
 ]
}